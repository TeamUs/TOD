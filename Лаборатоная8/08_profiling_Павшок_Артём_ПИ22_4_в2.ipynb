{
  "cells": [
    {
      "cell_type": "markdown",
      "metadata": {
        "id": "KhEMH5gJLAp9"
      },
      "source": [
        "## Оптимизация выполнения кода, векторизация, Numba"
      ]
    },
    {
      "cell_type": "markdown",
      "metadata": {
        "id": "JTg7ggyoLAqA"
      },
      "source": [
        "Материалы:\n",
        "* Макрушин С.В. Лекция 3: Оптимизация выполнения кода, векторизация, Numba\n",
        "* IPython Cookbook, Second Edition (2018), глава 4\n",
        "* https://numba.pydata.org/numba-doc/latest/user/5minguide.html"
      ]
    },
    {
      "cell_type": "markdown",
      "metadata": {
        "id": "-uaFxvqyLAqB"
      },
      "source": [
        "## Задачи для совместного разбора"
      ]
    },
    {
      "cell_type": "markdown",
      "metadata": {
        "id": "O9UFs9kSLAqC"
      },
      "source": [
        "1. Сгенерируйте массив `A` из `N=1млн` случайных целых чисел на отрезке от 0 до 1000. Пусть `B[i] = A[i] + 100`. Посчитайте среднее значение массива `B`."
      ]
    },
    {
      "cell_type": "code",
      "execution_count": 1,
      "metadata": {
        "colab": {
          "base_uri": "https://localhost:8080/"
        },
        "id": "HLH_tke-LAqC",
        "outputId": "01b36784-dee5-4dca-9c4b-958bb6778a18"
      },
      "outputs": [
        {
          "output_type": "stream",
          "name": "stdout",
          "text": [
            "Среднее значение массива B: 600.207105\n"
          ]
        }
      ],
      "source": [
        "import random\n",
        "\n",
        "N = 1000000\n",
        "A = [random.randint(0, 1000) for i in range(N)]\n",
        "B = [a + 100 for a in A]\n",
        "\n",
        "average_B = sum(B) / N\n",
        "print(\"Среднее значение массива B:\", average_B)\n"
      ]
    },
    {
      "cell_type": "markdown",
      "metadata": {
        "id": "wzRhDhZiLAqD"
      },
      "source": [
        "2. Создайте таблицу 2млн строк и с 4 столбцами, заполненными случайными числами. Добавьте столбец `key`, которые содержит элементы из множества английских букв. Выберите из таблицы подмножество строк, для которых в столбце `key` указаны первые 5 английских букв."
      ]
    },
    {
      "cell_type": "code",
      "source": [
        "import pandas as pd\n",
        "import numpy as np\n",
        "\n",
        "# Создание таблицы с 2 млн строк и 4 столбцами со случайными числами\n",
        "df = pd.DataFrame(np.random.randint(0, 1000000, size=(2000000, 4)), columns=['col1', 'col2', 'col3', 'col4'])\n",
        "\n",
        "# Добавление столбца key со случайными английскими буквами\n",
        "df['key'] = np.random.choice([chr(i) for i in range(65, 91)], size=2000000)\n",
        "\n",
        "# Выборка подмножества строк, для которых в столбце key указаны первые 5 английских букв\n",
        "subset_df = df[df['key'].isin(['A', 'B', 'C', 'D', 'E'])]\n",
        "\n",
        "# Вывод результата\n",
        "print(subset_df)\n"
      ],
      "metadata": {
        "colab": {
          "base_uri": "https://localhost:8080/"
        },
        "id": "KaRUH-bFLLEW",
        "outputId": "9d0d6ee6-0261-4d2e-8822-f685e325e753"
      },
      "execution_count": null,
      "outputs": [
        {
          "output_type": "stream",
          "name": "stdout",
          "text": [
            "           col1    col2    col3    col4 key\n",
            "3        493114  403401   40941   17101   C\n",
            "6          3231  451998  435449  310679   A\n",
            "12       300641  783223  745546  290053   E\n",
            "19       799584  851350  855770  479994   D\n",
            "24       722081  404933   25310  406996   C\n",
            "...         ...     ...     ...     ...  ..\n",
            "1999958  734336  407712  205864  843334   C\n",
            "1999961  977978  341094  274168  561129   C\n",
            "1999967  704184  868257  609709  507230   B\n",
            "1999976  983261  156300  764865  996826   C\n",
            "1999984  778255  806429  124493  159575   B\n",
            "\n",
            "[384341 rows x 5 columns]\n"
          ]
        }
      ]
    },
    {
      "cell_type": "markdown",
      "metadata": {
        "id": "FNG9BNhfLAqE"
      },
      "source": [
        "## Лабораторная работа 3"
      ]
    },
    {
      "cell_type": "code",
      "execution_count": 2,
      "metadata": {
        "colab": {
          "base_uri": "https://localhost:8080/"
        },
        "id": "Kn12q76-LAqF",
        "outputId": "708a7701-998c-4d10-8636-dfdc7d941ee4"
      },
      "outputs": [
        {
          "output_type": "stream",
          "name": "stdout",
          "text": [
            "Looking in indexes: https://pypi.org/simple, https://us-python.pkg.dev/colab-wheels/public/simple/\n",
            "Collecting line_profiler\n",
            "  Downloading line_profiler-4.0.3-cp310-cp310-manylinux_2_17_x86_64.manylinux2014_x86_64.whl (661 kB)\n",
            "\u001b[2K     \u001b[90m━━━━━━━━━━━━━━━━━━━━━━━━━━━━━━━━━━━━━━\u001b[0m \u001b[32m661.9/661.9 kB\u001b[0m \u001b[31m16.4 MB/s\u001b[0m eta \u001b[36m0:00:00\u001b[0m\n",
            "\u001b[?25hInstalling collected packages: line_profiler\n",
            "Successfully installed line_profiler-4.0.3\n"
          ]
        }
      ],
      "source": [
        "!pip install line_profiler"
      ]
    },
    {
      "cell_type": "markdown",
      "metadata": {
        "id": "ii7is-DzLAqG"
      },
      "source": [
        "1. В файлах `recipes_sample.csv` и `reviews_sample.csv` (__ЛР 2__) находится информация об рецептах блюд и отзывах на эти рецепты соответственно. Загрузите данные из файлов в виде `pd.DataFrame` с названиями `recipes` и `reviews`. Обратите внимание на корректное считывание столбца(ов) с индексами. Приведите столбцы к нужным типам.\n",
        "\n",
        "Реализуйте несколько вариантов функции подсчета среднего значения столбца `rating` из таблицы `reviews` для отзывов, оставленных в 2010 году.\n",
        "\n",
        "A. С использованием метода `DataFrame.iterrows` исходной таблицы;\n",
        "\n",
        "Б. С использованием метода `DataFrame.iterrows` таблицы, в которой сохранены только отзывы за 2010 год;\n",
        "\n",
        "В. С использованием метода `Series.mean`.\n",
        "\n",
        "Проверьте, что результаты работы всех написанных функций корректны и совпадают. Измерьте выполнения всех написанных функций.\n"
      ]
    },
    {
      "cell_type": "code",
      "source": [
        "import pandas as pd\n",
        "\n",
        "# Загрузка данных из файлов\n",
        "recipes = pd.read_csv('recipes_sample.csv', delimiter=',', index_col='id')\n",
        "reviews = pd.read_csv('reviews_sample.csv', delimiter=',', index_col='user_id')\n",
        "\n",
        "# Приведение столбцов к нужным типам\n",
        "recipes['submitted'] = pd.to_datetime(recipes['submitted'])\n",
        "reviews['date'] = pd.to_datetime(reviews['date'])\n",
        "reviews.rename(columns={'Unnamed: 0': 'id'}, inplace=True)\n",
        "\n",
        "recipes.head()"
      ],
      "metadata": {
        "id": "8TgiONwULGT6",
        "colab": {
          "base_uri": "https://localhost:8080/",
          "height": 411
        },
        "outputId": "ab1b1b7f-6cd0-4515-ea96-a077694245e6"
      },
      "execution_count": 6,
      "outputs": [
        {
          "output_type": "execute_result",
          "data": {
            "text/plain": [
              "                                           name  minutes  contributor_id  \\\n",
              "id                                                                         \n",
              "44123     george s at the cove  black bean soup       90           35193   \n",
              "67664        healthy for them  yogurt popsicles       10           91970   \n",
              "38798              i can t believe it s spinach       30            1533   \n",
              "35173                      italian  gut busters       45           22724   \n",
              "84797  love is in the air  beef fondue   sauces       25            4470   \n",
              "\n",
              "       submitted  n_steps                                        description  \\\n",
              "id                                                                             \n",
              "44123 2002-10-25      NaN  an original recipe created by chef scott meska...   \n",
              "67664 2003-07-26      NaN  my children and their friends ask for my homem...   \n",
              "38798 2002-08-29      NaN            these were so go, it surprised even me.   \n",
              "35173 2002-07-27      NaN  my sister-in-law made these for us at a family...   \n",
              "84797 2004-02-23      4.0  i think a fondue is a very romantic casual din...   \n",
              "\n",
              "       n_ingredients  \n",
              "id                    \n",
              "44123           18.0  \n",
              "67664            NaN  \n",
              "38798            8.0  \n",
              "35173            NaN  \n",
              "84797            NaN  "
            ],
            "text/html": [
              "\n",
              "  <div id=\"df-098a1478-9cf4-4bb9-8eeb-c4458324c347\">\n",
              "    <div class=\"colab-df-container\">\n",
              "      <div>\n",
              "<style scoped>\n",
              "    .dataframe tbody tr th:only-of-type {\n",
              "        vertical-align: middle;\n",
              "    }\n",
              "\n",
              "    .dataframe tbody tr th {\n",
              "        vertical-align: top;\n",
              "    }\n",
              "\n",
              "    .dataframe thead th {\n",
              "        text-align: right;\n",
              "    }\n",
              "</style>\n",
              "<table border=\"1\" class=\"dataframe\">\n",
              "  <thead>\n",
              "    <tr style=\"text-align: right;\">\n",
              "      <th></th>\n",
              "      <th>name</th>\n",
              "      <th>minutes</th>\n",
              "      <th>contributor_id</th>\n",
              "      <th>submitted</th>\n",
              "      <th>n_steps</th>\n",
              "      <th>description</th>\n",
              "      <th>n_ingredients</th>\n",
              "    </tr>\n",
              "    <tr>\n",
              "      <th>id</th>\n",
              "      <th></th>\n",
              "      <th></th>\n",
              "      <th></th>\n",
              "      <th></th>\n",
              "      <th></th>\n",
              "      <th></th>\n",
              "      <th></th>\n",
              "    </tr>\n",
              "  </thead>\n",
              "  <tbody>\n",
              "    <tr>\n",
              "      <th>44123</th>\n",
              "      <td>george s at the cove  black bean soup</td>\n",
              "      <td>90</td>\n",
              "      <td>35193</td>\n",
              "      <td>2002-10-25</td>\n",
              "      <td>NaN</td>\n",
              "      <td>an original recipe created by chef scott meska...</td>\n",
              "      <td>18.0</td>\n",
              "    </tr>\n",
              "    <tr>\n",
              "      <th>67664</th>\n",
              "      <td>healthy for them  yogurt popsicles</td>\n",
              "      <td>10</td>\n",
              "      <td>91970</td>\n",
              "      <td>2003-07-26</td>\n",
              "      <td>NaN</td>\n",
              "      <td>my children and their friends ask for my homem...</td>\n",
              "      <td>NaN</td>\n",
              "    </tr>\n",
              "    <tr>\n",
              "      <th>38798</th>\n",
              "      <td>i can t believe it s spinach</td>\n",
              "      <td>30</td>\n",
              "      <td>1533</td>\n",
              "      <td>2002-08-29</td>\n",
              "      <td>NaN</td>\n",
              "      <td>these were so go, it surprised even me.</td>\n",
              "      <td>8.0</td>\n",
              "    </tr>\n",
              "    <tr>\n",
              "      <th>35173</th>\n",
              "      <td>italian  gut busters</td>\n",
              "      <td>45</td>\n",
              "      <td>22724</td>\n",
              "      <td>2002-07-27</td>\n",
              "      <td>NaN</td>\n",
              "      <td>my sister-in-law made these for us at a family...</td>\n",
              "      <td>NaN</td>\n",
              "    </tr>\n",
              "    <tr>\n",
              "      <th>84797</th>\n",
              "      <td>love is in the air  beef fondue   sauces</td>\n",
              "      <td>25</td>\n",
              "      <td>4470</td>\n",
              "      <td>2004-02-23</td>\n",
              "      <td>4.0</td>\n",
              "      <td>i think a fondue is a very romantic casual din...</td>\n",
              "      <td>NaN</td>\n",
              "    </tr>\n",
              "  </tbody>\n",
              "</table>\n",
              "</div>\n",
              "      <button class=\"colab-df-convert\" onclick=\"convertToInteractive('df-098a1478-9cf4-4bb9-8eeb-c4458324c347')\"\n",
              "              title=\"Convert this dataframe to an interactive table.\"\n",
              "              style=\"display:none;\">\n",
              "        \n",
              "  <svg xmlns=\"http://www.w3.org/2000/svg\" height=\"24px\"viewBox=\"0 0 24 24\"\n",
              "       width=\"24px\">\n",
              "    <path d=\"M0 0h24v24H0V0z\" fill=\"none\"/>\n",
              "    <path d=\"M18.56 5.44l.94 2.06.94-2.06 2.06-.94-2.06-.94-.94-2.06-.94 2.06-2.06.94zm-11 1L8.5 8.5l.94-2.06 2.06-.94-2.06-.94L8.5 2.5l-.94 2.06-2.06.94zm10 10l.94 2.06.94-2.06 2.06-.94-2.06-.94-.94-2.06-.94 2.06-2.06.94z\"/><path d=\"M17.41 7.96l-1.37-1.37c-.4-.4-.92-.59-1.43-.59-.52 0-1.04.2-1.43.59L10.3 9.45l-7.72 7.72c-.78.78-.78 2.05 0 2.83L4 21.41c.39.39.9.59 1.41.59.51 0 1.02-.2 1.41-.59l7.78-7.78 2.81-2.81c.8-.78.8-2.07 0-2.86zM5.41 20L4 18.59l7.72-7.72 1.47 1.35L5.41 20z\"/>\n",
              "  </svg>\n",
              "      </button>\n",
              "      \n",
              "  <style>\n",
              "    .colab-df-container {\n",
              "      display:flex;\n",
              "      flex-wrap:wrap;\n",
              "      gap: 12px;\n",
              "    }\n",
              "\n",
              "    .colab-df-convert {\n",
              "      background-color: #E8F0FE;\n",
              "      border: none;\n",
              "      border-radius: 50%;\n",
              "      cursor: pointer;\n",
              "      display: none;\n",
              "      fill: #1967D2;\n",
              "      height: 32px;\n",
              "      padding: 0 0 0 0;\n",
              "      width: 32px;\n",
              "    }\n",
              "\n",
              "    .colab-df-convert:hover {\n",
              "      background-color: #E2EBFA;\n",
              "      box-shadow: 0px 1px 2px rgba(60, 64, 67, 0.3), 0px 1px 3px 1px rgba(60, 64, 67, 0.15);\n",
              "      fill: #174EA6;\n",
              "    }\n",
              "\n",
              "    [theme=dark] .colab-df-convert {\n",
              "      background-color: #3B4455;\n",
              "      fill: #D2E3FC;\n",
              "    }\n",
              "\n",
              "    [theme=dark] .colab-df-convert:hover {\n",
              "      background-color: #434B5C;\n",
              "      box-shadow: 0px 1px 3px 1px rgba(0, 0, 0, 0.15);\n",
              "      filter: drop-shadow(0px 1px 2px rgba(0, 0, 0, 0.3));\n",
              "      fill: #FFFFFF;\n",
              "    }\n",
              "  </style>\n",
              "\n",
              "      <script>\n",
              "        const buttonEl =\n",
              "          document.querySelector('#df-098a1478-9cf4-4bb9-8eeb-c4458324c347 button.colab-df-convert');\n",
              "        buttonEl.style.display =\n",
              "          google.colab.kernel.accessAllowed ? 'block' : 'none';\n",
              "\n",
              "        async function convertToInteractive(key) {\n",
              "          const element = document.querySelector('#df-098a1478-9cf4-4bb9-8eeb-c4458324c347');\n",
              "          const dataTable =\n",
              "            await google.colab.kernel.invokeFunction('convertToInteractive',\n",
              "                                                     [key], {});\n",
              "          if (!dataTable) return;\n",
              "\n",
              "          const docLinkHtml = 'Like what you see? Visit the ' +\n",
              "            '<a target=\"_blank\" href=https://colab.research.google.com/notebooks/data_table.ipynb>data table notebook</a>'\n",
              "            + ' to learn more about interactive tables.';\n",
              "          element.innerHTML = '';\n",
              "          dataTable['output_type'] = 'display_data';\n",
              "          await google.colab.output.renderOutput(dataTable, element);\n",
              "          const docLink = document.createElement('div');\n",
              "          docLink.innerHTML = docLinkHtml;\n",
              "          element.appendChild(docLink);\n",
              "        }\n",
              "      </script>\n",
              "    </div>\n",
              "  </div>\n",
              "  "
            ]
          },
          "metadata": {},
          "execution_count": 6
        }
      ]
    },
    {
      "cell_type": "code",
      "source": [
        "reviews.head()"
      ],
      "metadata": {
        "colab": {
          "base_uri": "https://localhost:8080/",
          "height": 328
        },
        "id": "js3jWYUjfWRD",
        "outputId": "6f9b7f26-a540-4076-8225-7bef35578a79"
      },
      "execution_count": 7,
      "outputs": [
        {
          "output_type": "execute_result",
          "data": {
            "text/plain": [
              "                id  recipe_id       date  rating  \\\n",
              "user_id                                            \n",
              "21752       370476      57993 2003-05-01       5   \n",
              "431813      624300     142201 2007-09-16       5   \n",
              "400708      187037     252013 2008-01-10       4   \n",
              "2001852463  706134     404716 2017-12-11       5   \n",
              "95810       312179     129396 2008-03-14       5   \n",
              "\n",
              "                                                       review  \n",
              "user_id                                                        \n",
              "21752       Last week whole sides of frozen salmon fillet ...  \n",
              "431813      So simple and so tasty!  I used a yellow capsi...  \n",
              "400708      Very nice breakfast HH, easy to make and yummy...  \n",
              "2001852463  These are a favorite for the holidays and so e...  \n",
              "95810       Excellent soup!  The tomato flavor is just gre...  "
            ],
            "text/html": [
              "\n",
              "  <div id=\"df-5412f9a1-0aa1-49ed-bb63-0a6f009e92c4\">\n",
              "    <div class=\"colab-df-container\">\n",
              "      <div>\n",
              "<style scoped>\n",
              "    .dataframe tbody tr th:only-of-type {\n",
              "        vertical-align: middle;\n",
              "    }\n",
              "\n",
              "    .dataframe tbody tr th {\n",
              "        vertical-align: top;\n",
              "    }\n",
              "\n",
              "    .dataframe thead th {\n",
              "        text-align: right;\n",
              "    }\n",
              "</style>\n",
              "<table border=\"1\" class=\"dataframe\">\n",
              "  <thead>\n",
              "    <tr style=\"text-align: right;\">\n",
              "      <th></th>\n",
              "      <th>id</th>\n",
              "      <th>recipe_id</th>\n",
              "      <th>date</th>\n",
              "      <th>rating</th>\n",
              "      <th>review</th>\n",
              "    </tr>\n",
              "    <tr>\n",
              "      <th>user_id</th>\n",
              "      <th></th>\n",
              "      <th></th>\n",
              "      <th></th>\n",
              "      <th></th>\n",
              "      <th></th>\n",
              "    </tr>\n",
              "  </thead>\n",
              "  <tbody>\n",
              "    <tr>\n",
              "      <th>21752</th>\n",
              "      <td>370476</td>\n",
              "      <td>57993</td>\n",
              "      <td>2003-05-01</td>\n",
              "      <td>5</td>\n",
              "      <td>Last week whole sides of frozen salmon fillet ...</td>\n",
              "    </tr>\n",
              "    <tr>\n",
              "      <th>431813</th>\n",
              "      <td>624300</td>\n",
              "      <td>142201</td>\n",
              "      <td>2007-09-16</td>\n",
              "      <td>5</td>\n",
              "      <td>So simple and so tasty!  I used a yellow capsi...</td>\n",
              "    </tr>\n",
              "    <tr>\n",
              "      <th>400708</th>\n",
              "      <td>187037</td>\n",
              "      <td>252013</td>\n",
              "      <td>2008-01-10</td>\n",
              "      <td>4</td>\n",
              "      <td>Very nice breakfast HH, easy to make and yummy...</td>\n",
              "    </tr>\n",
              "    <tr>\n",
              "      <th>2001852463</th>\n",
              "      <td>706134</td>\n",
              "      <td>404716</td>\n",
              "      <td>2017-12-11</td>\n",
              "      <td>5</td>\n",
              "      <td>These are a favorite for the holidays and so e...</td>\n",
              "    </tr>\n",
              "    <tr>\n",
              "      <th>95810</th>\n",
              "      <td>312179</td>\n",
              "      <td>129396</td>\n",
              "      <td>2008-03-14</td>\n",
              "      <td>5</td>\n",
              "      <td>Excellent soup!  The tomato flavor is just gre...</td>\n",
              "    </tr>\n",
              "  </tbody>\n",
              "</table>\n",
              "</div>\n",
              "      <button class=\"colab-df-convert\" onclick=\"convertToInteractive('df-5412f9a1-0aa1-49ed-bb63-0a6f009e92c4')\"\n",
              "              title=\"Convert this dataframe to an interactive table.\"\n",
              "              style=\"display:none;\">\n",
              "        \n",
              "  <svg xmlns=\"http://www.w3.org/2000/svg\" height=\"24px\"viewBox=\"0 0 24 24\"\n",
              "       width=\"24px\">\n",
              "    <path d=\"M0 0h24v24H0V0z\" fill=\"none\"/>\n",
              "    <path d=\"M18.56 5.44l.94 2.06.94-2.06 2.06-.94-2.06-.94-.94-2.06-.94 2.06-2.06.94zm-11 1L8.5 8.5l.94-2.06 2.06-.94-2.06-.94L8.5 2.5l-.94 2.06-2.06.94zm10 10l.94 2.06.94-2.06 2.06-.94-2.06-.94-.94-2.06-.94 2.06-2.06.94z\"/><path d=\"M17.41 7.96l-1.37-1.37c-.4-.4-.92-.59-1.43-.59-.52 0-1.04.2-1.43.59L10.3 9.45l-7.72 7.72c-.78.78-.78 2.05 0 2.83L4 21.41c.39.39.9.59 1.41.59.51 0 1.02-.2 1.41-.59l7.78-7.78 2.81-2.81c.8-.78.8-2.07 0-2.86zM5.41 20L4 18.59l7.72-7.72 1.47 1.35L5.41 20z\"/>\n",
              "  </svg>\n",
              "      </button>\n",
              "      \n",
              "  <style>\n",
              "    .colab-df-container {\n",
              "      display:flex;\n",
              "      flex-wrap:wrap;\n",
              "      gap: 12px;\n",
              "    }\n",
              "\n",
              "    .colab-df-convert {\n",
              "      background-color: #E8F0FE;\n",
              "      border: none;\n",
              "      border-radius: 50%;\n",
              "      cursor: pointer;\n",
              "      display: none;\n",
              "      fill: #1967D2;\n",
              "      height: 32px;\n",
              "      padding: 0 0 0 0;\n",
              "      width: 32px;\n",
              "    }\n",
              "\n",
              "    .colab-df-convert:hover {\n",
              "      background-color: #E2EBFA;\n",
              "      box-shadow: 0px 1px 2px rgba(60, 64, 67, 0.3), 0px 1px 3px 1px rgba(60, 64, 67, 0.15);\n",
              "      fill: #174EA6;\n",
              "    }\n",
              "\n",
              "    [theme=dark] .colab-df-convert {\n",
              "      background-color: #3B4455;\n",
              "      fill: #D2E3FC;\n",
              "    }\n",
              "\n",
              "    [theme=dark] .colab-df-convert:hover {\n",
              "      background-color: #434B5C;\n",
              "      box-shadow: 0px 1px 3px 1px rgba(0, 0, 0, 0.15);\n",
              "      filter: drop-shadow(0px 1px 2px rgba(0, 0, 0, 0.3));\n",
              "      fill: #FFFFFF;\n",
              "    }\n",
              "  </style>\n",
              "\n",
              "      <script>\n",
              "        const buttonEl =\n",
              "          document.querySelector('#df-5412f9a1-0aa1-49ed-bb63-0a6f009e92c4 button.colab-df-convert');\n",
              "        buttonEl.style.display =\n",
              "          google.colab.kernel.accessAllowed ? 'block' : 'none';\n",
              "\n",
              "        async function convertToInteractive(key) {\n",
              "          const element = document.querySelector('#df-5412f9a1-0aa1-49ed-bb63-0a6f009e92c4');\n",
              "          const dataTable =\n",
              "            await google.colab.kernel.invokeFunction('convertToInteractive',\n",
              "                                                     [key], {});\n",
              "          if (!dataTable) return;\n",
              "\n",
              "          const docLinkHtml = 'Like what you see? Visit the ' +\n",
              "            '<a target=\"_blank\" href=https://colab.research.google.com/notebooks/data_table.ipynb>data table notebook</a>'\n",
              "            + ' to learn more about interactive tables.';\n",
              "          element.innerHTML = '';\n",
              "          dataTable['output_type'] = 'display_data';\n",
              "          await google.colab.output.renderOutput(dataTable, element);\n",
              "          const docLink = document.createElement('div');\n",
              "          docLink.innerHTML = docLinkHtml;\n",
              "          element.appendChild(docLink);\n",
              "        }\n",
              "      </script>\n",
              "    </div>\n",
              "  </div>\n",
              "  "
            ]
          },
          "metadata": {},
          "execution_count": 7
        }
      ]
    },
    {
      "cell_type": "code",
      "source": [
        "#A\n",
        "\n",
        "import time\n",
        "\n",
        "def mean_rating_a(reviews):\n",
        "    total_rating = 0\n",
        "    count = 0\n",
        "    for _, row in reviews.iterrows():\n",
        "        if row['date'].year == 2010:\n",
        "            total_rating += row['rating']\n",
        "            count += 1\n",
        "    return total_rating / count if count > 0 else 0\n",
        "\n",
        "start_time = time.time()\n",
        "mean_a = mean_rating_a(reviews)\n",
        "print(\"Средний рейтинг по методу А:\", mean_a)\n",
        "print(\"Время выполнения метода А:\", time.time() - start_time)"
      ],
      "metadata": {
        "colab": {
          "base_uri": "https://localhost:8080/"
        },
        "id": "MOaPjlu8gNoD",
        "outputId": "e01be5c3-96f8-4f6e-b9ae-79bccc1f3e21"
      },
      "execution_count": 23,
      "outputs": [
        {
          "output_type": "stream",
          "name": "stdout",
          "text": [
            "Средний рейтинг по методу А: 4.4544402182900615\n",
            "Время выполнения метода А: 6.66293740272522\n"
          ]
        }
      ]
    },
    {
      "cell_type": "code",
      "source": [
        "#Б\n",
        "\n",
        "def mean_rating_b(reviews):\n",
        "    total_rating = 0\n",
        "    count = 0\n",
        "    for _, row in reviews_2010.iterrows():\n",
        "        total_rating += row['rating']\n",
        "        count += 1\n",
        "    return total_rating / count if count > 0 else 0\n",
        "\n",
        "reviews_2010 = reviews[reviews['date'].dt.year == 2010]\n",
        "\n",
        "start_time = time.time()\n",
        "mean_b = mean_rating_b(reviews_2010)\n",
        "print(\"Средний рейтинг по методу Б:\", mean_b)\n",
        "print(\"Время выполнения метода Б:\", time.time() - start_time)"
      ],
      "metadata": {
        "colab": {
          "base_uri": "https://localhost:8080/"
        },
        "id": "V-jNDvI_hUSB",
        "outputId": "6c3c1906-e1fb-4426-9c25-5a3239673fd9"
      },
      "execution_count": 25,
      "outputs": [
        {
          "output_type": "stream",
          "name": "stdout",
          "text": [
            "Средний рейтинг по методу Б: 4.4544402182900615\n",
            "Время выполнения метода Б: 0.5057389736175537\n"
          ]
        }
      ]
    },
    {
      "cell_type": "code",
      "source": [
        "#В\n",
        "\n",
        "start_time = time.time()\n",
        "mean_c = reviews[reviews['date'].dt.year == 2010]['rating'].mean()\n",
        "print(\"Средний рейтинг по методу В:\", mean_c)\n",
        "print(\"Время выполнения метода В:\", time.time() - start_time)\n"
      ],
      "metadata": {
        "colab": {
          "base_uri": "https://localhost:8080/"
        },
        "id": "Y0askKz1hbEY",
        "outputId": "e06caf25-45a1-4c16-fda5-cc03846c2656"
      },
      "execution_count": 26,
      "outputs": [
        {
          "output_type": "stream",
          "name": "stdout",
          "text": [
            "Средний рейтинг по методу В: 4.4544402182900615\n",
            "Время выполнения метода В: 0.02868199348449707\n"
          ]
        }
      ]
    },
    {
      "cell_type": "markdown",
      "metadata": {
        "id": "aPssEBEOLAqH"
      },
      "source": [
        "2. Какая из созданных функций выполняется медленнее? Что наиболее сильно влияет на скорость выполнения? Для ответа использовать профайлер `line_profiler`. Сохраните результаты работы профайлера в отдельную текстовую ячейку и прокомментируйте результаты его работы.\n",
        "\n",
        "(*). Сможете ли вы ускорить работу функции 1Б, отказавшись от использования метода `iterrows`, но не используя метод `mean`?"
      ]
    },
    {
      "cell_type": "code",
      "source": [
        "!pip install line_profiler"
      ],
      "metadata": {
        "id": "6y6zqfZVLHG3",
        "colab": {
          "base_uri": "https://localhost:8080/"
        },
        "outputId": "127a24bc-b43f-43e3-df2a-9084c7fee81e"
      },
      "execution_count": 27,
      "outputs": [
        {
          "output_type": "stream",
          "name": "stdout",
          "text": [
            "Looking in indexes: https://pypi.org/simple, https://us-python.pkg.dev/colab-wheels/public/simple/\n",
            "Requirement already satisfied: line_profiler in /usr/local/lib/python3.10/dist-packages (4.0.3)\n"
          ]
        }
      ]
    },
    {
      "cell_type": "code",
      "source": [
        "from line_profiler import LineProfiler\n",
        "\n",
        "# определяем функции для профилирования\n",
        "def mean_rating_a(reviews):\n",
        "    total_rating = 0\n",
        "    count = 0\n",
        "    for _, row in reviews.iterrows():\n",
        "        if row['date'].year == 2010:\n",
        "            total_rating += row['rating']\n",
        "            count += 1\n",
        "    return total_rating / count if count > 0 else 0\n",
        "\n",
        "def mean_rating_b(reviews):\n",
        "    total_rating = 0\n",
        "    count = 0\n",
        "    for _, row in reviews_2010.iterrows():\n",
        "        total_rating += row['rating']\n",
        "        count += 1\n",
        "    return total_rating / count if count > 0 else 0\n",
        "\n",
        "def func_c():\n",
        "    return reviews_2010['rating'].mean()\n",
        "\n",
        "# создаем экземпляр LineProfiler\n",
        "profiler = LineProfiler()\n",
        "\n",
        "profiler.add_function(mean_rating_a)\n",
        "profiler.add_function(mean_rating_b)\n",
        "profiler.add_function(func_c)\n",
        "\n",
        "#запускаем профилирование\n",
        "profiler.enable()\n",
        "\n",
        "#вызываем функции для подсчета среднего значения rating из таблицы reviews\n",
        "mean_rating_a(reviews)\n",
        "mean_rating_b(reviews_2010)\n",
        "func_c()\n",
        "\n",
        "#останавливаем профилирование\n",
        "profiler.disable()\n",
        "\n",
        "#выводим результаты профилирования\n",
        "profiler.print_stats()\n"
      ],
      "metadata": {
        "colab": {
          "base_uri": "https://localhost:8080/"
        },
        "id": "qNXNbOcniF_S",
        "outputId": "2ecd0a2c-23da-4162-e689-7573ef3de6ef"
      },
      "execution_count": 28,
      "outputs": [
        {
          "output_type": "stream",
          "name": "stdout",
          "text": [
            "Timer unit: 1e-09 s\n",
            "\n",
            "Total time: 11.4099 s\n",
            "File: <ipython-input-28-246b588a091e>\n",
            "Function: mean_rating_a at line 4\n",
            "\n",
            "Line #      Hits         Time  Per Hit   % Time  Line Contents\n",
            "==============================================================\n",
            "     4                                           def mean_rating_a(reviews):\n",
            "     5         1      25097.0  25097.0      0.0      total_rating = 0\n",
            "     6         1        300.0    300.0      0.0      count = 0\n",
            "     7    126696 9968790512.0  78682.8     87.4      for _, row in reviews.iterrows():\n",
            "     8    114602 1330030495.0  11605.6     11.7          if row['date'].year == 2010:\n",
            "     9     12094  105727296.0   8742.1      0.9              total_rating += row['rating']\n",
            "    10     12094    5346740.0    442.1      0.0              count += 1\n",
            "    11         1       1743.0   1743.0      0.0      return total_rating / count if count > 0 else 0\n",
            "\n",
            "Total time: 1.69361 s\n",
            "File: <ipython-input-28-246b588a091e>\n",
            "Function: mean_rating_b at line 13\n",
            "\n",
            "Line #      Hits         Time  Per Hit   % Time  Line Contents\n",
            "==============================================================\n",
            "    13                                           def mean_rating_b(reviews):\n",
            "    14         1      12513.0  12513.0      0.0      total_rating = 0\n",
            "    15         1        333.0    333.0      0.0      count = 0\n",
            "    16     12094 1471267895.0 121652.7     86.9      for _, row in reviews_2010.iterrows():\n",
            "    17     12094  215307904.0  17802.9     12.7          total_rating += row['rating']\n",
            "    18     12094    7023929.0    580.8      0.4          count += 1\n",
            "    19         1       1642.0   1642.0      0.0      return total_rating / count if count > 0 else 0\n",
            "\n",
            "Total time: 0.000875379 s\n",
            "File: <ipython-input-28-246b588a091e>\n",
            "Function: func_c at line 21\n",
            "\n",
            "Line #      Hits         Time  Per Hit   % Time  Line Contents\n",
            "==============================================================\n",
            "    21                                           def func_c():\n",
            "    22         1     875379.0 875379.0    100.0      return reviews_2010['rating'].mean()\n",
            "\n"
          ]
        }
      ]
    },
    {
      "cell_type": "code",
      "source": [
        "#Да, можно. Используя метод loc\n",
        "\n",
        "def mean_rating_b(reviews):\n",
        "    reviews_2010 = reviews.loc[reviews['date'].dt.year == 2010]\n",
        "    total_rating = reviews_2010['rating'].sum()\n",
        "    count = reviews_2010['rating'].count()\n",
        "    return total_rating / count if count > 0 else 0\n",
        "start_time = time.time()\n",
        "mean_b = mean_rating_b(reviews_2010)\n",
        "print(\"Средний рейтинг по методу Б:\", mean_b)\n",
        "print(\"Время выполнения метода Б:\", time.time() - start_time)"
      ],
      "metadata": {
        "colab": {
          "base_uri": "https://localhost:8080/"
        },
        "id": "C4A3wtj_kczm",
        "outputId": "bc91c263-1b6d-48f9-fb13-f0ef7713bfc8"
      },
      "execution_count": 30,
      "outputs": [
        {
          "output_type": "stream",
          "name": "stdout",
          "text": [
            "Средний рейтинг по методу Б: 4.4544402182900615\n",
            "Время выполнения метода Б: 0.02646470069885254\n"
          ]
        }
      ]
    },
    {
      "cell_type": "markdown",
      "metadata": {
        "id": "e9n2JiyeLAqH"
      },
      "source": [
        "3. Вам предлагается воспользоваться функцией, которая собирает статистику о том, сколько отзывов содержат то или иное слово. Измерьте время выполнения этой функции. Сможете ли вы найти узкие места в коде, используя профайлер? Выпишите (словами), что в имеющемся коде реализовано неоптимально. Оптимизируйте функцию и добейтесь значительного (как минимум, на один порядок) прироста в скорости выполнения."
      ]
    },
    {
      "cell_type": "code",
      "execution_count": 28,
      "metadata": {
        "id": "Q6wzeuLZLAqI",
        "colab": {
          "base_uri": "https://localhost:8080/"
        },
        "outputId": "72203306-527e-42ef-cb92-4ce262c19533"
      },
      "outputs": [
        {
          "output_type": "stream",
          "name": "stdout",
          "text": [
            " "
          ]
        }
      ],
      "source": [
        "def get_word_reviews_count(df):\n",
        "    word_reviews = {}\n",
        "    for _, row in df.dropna(subset=['review']).iterrows():\n",
        "        recipe_id, review = row['recipe_id'], row['review']\n",
        "        words = review.split(' ')\n",
        "        for word in words:\n",
        "            if word not in word_reviews:\n",
        "                word_reviews[word] = []\n",
        "            word_reviews[word].append(recipe_id)\n",
        "    \n",
        "    word_reviews_count = {}\n",
        "    for _, row in df.dropna(subset=['review']).iterrows():\n",
        "        review = row['review']\n",
        "        words = review.split(' ')\n",
        "        for word in words:\n",
        "            word_reviews_count[word] = len(word_reviews[word])\n",
        "    return word_reviews_count\n",
        "%prun"
      ]
    },
    {
      "cell_type": "code",
      "source": [
        "from collections import defaultdict\n",
        "from multiprocessing import Pool\n",
        "from numba import jit\n",
        "\n",
        "@jit(nopython=True)\n",
        "def count_words(text, words):\n",
        "    stats = defaultdict(int)\n",
        "    for word in text.split():\n",
        "        if word in words:\n",
        "            stats[word] += 1\n",
        "    return stats\n",
        "\n",
        "def analyze_reviews(reviews, words):\n",
        "    stats = defaultdict(int)\n",
        "    with Pool() as p:\n",
        "        results = p.starmap(count_words, [(review, words) for review in reviews])\n",
        "        for result in results:\n",
        "            for word, count in result.items():\n",
        "                stats[word] += count\n",
        "    return stats\n",
        "%prun"
      ],
      "metadata": {
        "colab": {
          "base_uri": "https://localhost:8080/"
        },
        "id": "ELjzOwtTYge1",
        "outputId": "0bbd2ea3-f87a-420b-e18f-08bb687a1fe2"
      },
      "execution_count": 30,
      "outputs": [
        {
          "output_type": "stream",
          "name": "stdout",
          "text": [
            " "
          ]
        }
      ]
    },
    {
      "cell_type": "markdown",
      "metadata": {
        "id": "CaZztN27LAqJ"
      },
      "source": [
        "4. Напишите несколько версий функции `MAPE` (см. [MAPE](https://en.wikipedia.org/wiki/Mean_absolute_percentage_error)) для расчета среднего абсолютного процентного отклонения значения рейтинга отзыва на рецепт от среднего значения рейтинга по всем отзывам для этого рецепта. \n",
        "    1. Без использования векторизованных операций и методов массивов `numpy` и без использования `numba`\n",
        "    2. Без использования векторизованных операций и методов массивов `numpy`, но с использованием `numba`\n",
        "    3. С использованием векторизованных операций и методов массивов `numpy`, но без использования `numba`\n",
        "    4. C использованием векторизованных операций и методов массивов `numpy` и `numba`\n",
        "    \n",
        "Измерьте время выполнения каждой из реализаций.\n",
        "\n",
        "Замечание: удалите из выборки отзывы с нулевым рейтингом.\n"
      ]
    },
    {
      "cell_type": "code",
      "source": [
        "import pandas as pd\n",
        "\n",
        "def MAPE(df: pd.DataFrame) -> float:\n",
        "    # Удаляем строки с нулевым рейтингом\n",
        "    df = df[df['rating'] != 0]\n",
        "    \n",
        "    # Группируем данные по рецепту\n",
        "    grouped_data = df.groupby('recipe_id')\n",
        "    \n",
        "    # Вычисляем средний рейтинг для каждого рецепта\n",
        "    mean_ratings = grouped_data['rating'].mean()\n",
        "    \n",
        "    # Вычисляем сумму абсолютных процентных отклонений для каждого рецепта\n",
        "    mape_sum = 0\n",
        "    for recipe_id, rating in mean_ratings.iteritems():\n",
        "        recipe_data = df[df['recipe_id'] == recipe_id]\n",
        "        actual_rating = recipe_data['rating'].values\n",
        "        mape_sum += abs(actual_rating - rating) / rating\n",
        "    \n",
        "    # Вычисляем среднее абсолютное процентное отклонение для всех рецептов\n",
        "    result = mape_sum.sum() / len(mean_ratings)\n",
        "    \n",
        "    return result"
      ],
      "metadata": {
        "id": "7xDN6nhRCZGH"
      },
      "execution_count": 27,
      "outputs": []
    },
    {
      "cell_type": "code",
      "execution_count": 31,
      "metadata": {
        "id": "0LQiUZD3LAqJ",
        "colab": {
          "base_uri": "https://localhost:8080/"
        },
        "outputId": "c7850bb1-dbf1-4571-f2de-49ce4dd3f14f"
      },
      "outputs": [
        {
          "output_type": "stream",
          "name": "stdout",
          "text": [
            "197.17042308500004\n"
          ]
        }
      ],
      "source": [
        "import timeit\n",
        "\n",
        "def mape_v1(reviews):\n",
        "    result = 0\n",
        "    count = 0\n",
        "    for recipe_id, recipe_group in reviews.groupby('recipe_id'):\n",
        "        mean_rating = recipe_group['rating'].mean()\n",
        "        for _, row in recipe_group.iterrows():\n",
        "            if row['rating'] != 0:\n",
        "                result += abs(row['rating'] - mean_rating) / mean_rating\n",
        "                count += 1\n",
        "    return result / count if count > 0 else 0\n",
        "\n",
        "print(timeit.timeit(lambda: mape_v1(reviews), number=10, globals=globals())) # Для первой реализации"
      ]
    },
    {
      "cell_type": "code",
      "source": [
        "import pandas as pd\n",
        "from numba import jit\n",
        "\n",
        "@jit(nopython=True)\n",
        "def mape_numba(actual_rating, rating):\n",
        "    mape_sum = 0\n",
        "    for i in range(len(actual_rating)):\n",
        "        mape_sum += abs(actual_rating[i] - rating) / rating\n",
        "    return mape_sum\n",
        "\n",
        "def MAPE(df: pd.DataFrame) -> float:\n",
        "    # Удаляем строки с нулевым рейтингом\n",
        "    df = df[df['rating'] != 0]\n",
        "    \n",
        "    # Группируем данные по рецепту\n",
        "    grouped_data = df.groupby('recipe_id')\n",
        "    \n",
        "    # Вычисляем средний рейтинг для каждого рецепта\n",
        "    mean_ratings = grouped_data['rating'].mean()\n",
        "    \n",
        "    # Вычисляем сумму абсолютных процентных отклонений для каждого рецепта\n",
        "    mape_sum = 0\n",
        "    for recipe_id, rating in mean_ratings.iteritems():\n",
        "        recipe_data = df[df['recipe_id'] == recipe_id]\n",
        "        actual_rating = recipe_data['rating'].values\n",
        "        mape_sum += mape_numba(actual_rating, rating)\n",
        "    \n",
        "    # Вычисляем среднее абсолютное процентное отклонение для всех рецептов\n",
        "    result = mape_sum.sum() / len(mean_ratings)\n",
        "    \n",
        "    return result"
      ],
      "metadata": {
        "id": "KyR7KLvel4zW"
      },
      "execution_count": 26,
      "outputs": []
    },
    {
      "cell_type": "code",
      "source": [
        "import numpy as np\n",
        "import timeit\n",
        "\n",
        "def mape_v3(reviews):\n",
        "    reviews = reviews[reviews['rating'] != 0]\n",
        "    mean_ratings = reviews.groupby('recipe_id')['rating'].transform('mean')\n",
        "    return np.mean(np.abs(reviews['rating'] - mean_ratings) / mean_ratings)\n",
        "\n",
        "print(timeit.timeit(lambda: mape_v3(reviews), number=10, globals=globals())) # Для третьей реализации"
      ],
      "metadata": {
        "colab": {
          "base_uri": "https://localhost:8080/"
        },
        "id": "3jbjhGAxl5JV",
        "outputId": "c7ce2310-37b0-4ee7-bd47-00bc8249fdf8"
      },
      "execution_count": 33,
      "outputs": [
        {
          "output_type": "stream",
          "name": "stdout",
          "text": [
            "0.35992541599989636\n"
          ]
        }
      ]
    },
    {
      "cell_type": "code",
      "source": [
        "import pandas as pd\n",
        "import numpy as np\n",
        "from numba import jit\n",
        "\n",
        "@jit(nopython=True)\n",
        "def mape_numba(actual_rating, rating):\n",
        "    return np.abs(actual_rating - rating) / rating\n",
        "\n",
        "def MAPE(df: pd.DataFrame) -> float:\n",
        "    # Удаляем строки с нулевым рейтингом\n",
        "    df = df[df['rating'] != 0]\n",
        "    \n",
        "    # Группируем данные по рецепту\n",
        "    grouped_data = df.groupby('recipe_id')\n",
        "    \n",
        "    # Вычисляем средний рейтинг для каждого рецепта\n",
        "    mean_ratings = grouped_data['rating'].mean()\n",
        "    \n",
        "    # Вычисляем сумму абсолютных процентных отклонений для каждого рецепта\n",
        "    mape_sum = 0\n",
        "    for recipe_id, rating in mean_ratings.iteritems():\n",
        "        recipe_data = df[df['recipe_id'] == recipe_id]\n",
        "        actual_rating = recipe_data['rating'].values\n",
        "        mape_sum += mape_numba(actual_rating, rating)\n",
        "    \n",
        "    # Вычисляем среднее абсолютное процентное отклонение для всех рецептов\n",
        "    result = mape_sum.sum() / len(mean_ratings)\n",
        "    \n",
        "    return result"
      ],
      "metadata": {
        "id": "ZCze4KEzl5Qs"
      },
      "execution_count": 17,
      "outputs": []
    },
    {
      "cell_type": "markdown",
      "metadata": {
        "id": "L0Cq3cDwLAqK"
      },
      "source": [
        "#### [версия 2]\n",
        "* Уточнены формулировки задач 1, 3, 4"
      ]
    }
  ],
  "metadata": {
    "kernelspec": {
      "display_name": "Python 3",
      "language": "python",
      "name": "python3"
    },
    "language_info": {
      "codemirror_mode": {
        "name": "ipython",
        "version": 3
      },
      "file_extension": ".py",
      "mimetype": "text/x-python",
      "name": "python",
      "nbconvert_exporter": "python",
      "pygments_lexer": "ipython3",
      "version": "3.7.4"
    },
    "colab": {
      "provenance": []
    }
  },
  "nbformat": 4,
  "nbformat_minor": 0
}