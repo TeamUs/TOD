{
  "cells": [
    {
      "cell_type": "markdown",
      "metadata": {
        "id": "LtI4skgtEDBS"
      },
      "source": [
        "# Работа со строковыми значениями"
      ]
    },
    {
      "cell_type": "markdown",
      "metadata": {
        "id": "b8vwjQNqEDBU"
      },
      "source": [
        "__Автор задач: Блохин Н.В. (NVBlokhin@fa.ru)__\n",
        "\n",
        "Материалы:\n",
        "* Макрушин С.В. Лекция \"Работа со строковыми значениям\"\n",
        "* https://pyformat.info/\n",
        "* https://docs.python.org/3/library/re.html\n",
        "    * https://docs.python.org/3/library/re.html#flags\n",
        "    * https://docs.python.org/3/library/re.html#functions\n",
        "* https://pythonru.com/primery/primery-primeneniya-regulyarnyh-vyrazheniy-v-python\n",
        "* https://kanoki.org/2019/11/12/how-to-use-regex-in-pandas/\n",
        "* https://realpython.com/nltk-nlp-python/"
      ]
    },
    {
      "cell_type": "markdown",
      "metadata": {
        "id": "vKMnHucUEDBV"
      },
      "source": [
        "## Задачи для совместного разбора"
      ]
    },
    {
      "cell_type": "markdown",
      "metadata": {
        "id": "0ppsikGAEDBV"
      },
      "source": [
        "1. Вывести на экран данные из словаря `obj` построчно в виде `k = v`, задав формат таким образом, чтобы знак равенства оказался на одной и той же позиции во всех строках. Строковые литералы обернуть в кавычки."
      ]
    },
    {
      "cell_type": "code",
      "execution_count": null,
      "metadata": {
        "colab": {
          "base_uri": "https://localhost:8080/"
        },
        "id": "cBGj0ekUEDBV",
        "outputId": "8f962ca7-6a8a-4315-e574-2c2d66d7911d"
      },
      "outputs": [
        {
          "name": "stdout",
          "output_type": "stream",
          "text": [
            "home_page  = 'https://github.com/pypa/sampleproject'\n",
            "keywords   = 'sample setuptools development'\n",
            "license    = 'MIT'\n"
          ]
        }
      ],
      "source": [
        "obj = {\n",
        "    \"home_page\": \"https://github.com/pypa/sampleproject\",\n",
        "    \"keywords\": \"sample setuptools development\",\n",
        "    \"license\": \"MIT\",\n",
        "}\n",
        "\n",
        "for k, v in obj.items():\n",
        "    print(f\"{k:10} = '{v}'\")\n"
      ]
    },
    {
      "cell_type": "markdown",
      "metadata": {
        "id": "hLF4vFsTEDBW"
      },
      "source": [
        "2. Написать регулярное выражение,которое позволит найти номера групп студентов."
      ]
    },
    {
      "cell_type": "code",
      "execution_count": null,
      "metadata": {
        "colab": {
          "base_uri": "https://localhost:8080/"
        },
        "id": "EH8eQwT4EDBW",
        "outputId": "9ed8f23a-86ae-4476-e12c-ddc2c25681f0"
      },
      "outputs": [
        {
          "name": "stdout",
          "output_type": "stream",
          "text": [
            "19-1\n",
            "20-4\n",
            "20-3\n"
          ]
        }
      ],
      "source": [
        "import pandas as pd\n",
        "import re\n",
        "\n",
        "obj = pd.Series([\"Евгения гр.ПМ19-1\", \"Илья пм 20-4\", \"Анна 20-3\"])\n",
        "\n",
        "pattern = r\"\\d{2}-\\d\"\n",
        "\n",
        "for s in obj:\n",
        "    match = re.search(pattern, s)\n",
        "    if match:\n",
        "        print(match.group())\n"
      ]
    },
    {
      "cell_type": "markdown",
      "metadata": {
        "id": "rOFugz3BEDBX"
      },
      "source": [
        "3. Разбейте текст формулировки задачи 2 на слова."
      ]
    },
    {
      "cell_type": "code",
      "execution_count": null,
      "metadata": {
        "colab": {
          "base_uri": "https://localhost:8080/"
        },
        "id": "1Rie0nwjFLqM",
        "outputId": "958f95fd-a893-4192-e7e1-f677058c5fd5"
      },
      "outputs": [
        {
          "name": "stdout",
          "output_type": "stream",
          "text": [
            "['Написать', 'регулярное', 'выражение,', 'которое', 'позволит', 'найти', 'номера', 'групп', 'студентов.']\n"
          ]
        }
      ],
      "source": [
        "text = \"Написать регулярное выражение, которое позволит найти номера групп студентов.\"\n",
        "words = text.split()\n",
        "print(words)\n"
      ]
    },
    {
      "cell_type": "markdown",
      "metadata": {
        "id": "jay5meLVEDBX"
      },
      "source": [
        "## Лабораторная работа 6"
      ]
    },
    {
      "cell_type": "markdown",
      "metadata": {
        "id": "un17yAVuEDBX"
      },
      "source": [
        "### Форматирование строк"
      ]
    },
    {
      "cell_type": "markdown",
      "metadata": {
        "id": "KulzEXiOEDBY"
      },
      "source": [
        "1\\. Загрузите данные из файла `recipes_sample.csv` (__ЛР2__) в виде `pd.DataFrame` `recipes` При помощи форматирования строк выведите информацию об id рецепта и времени выполнения 5 случайных рецептов в виде таблицы следующего вида:\n",
        "\n",
        "    \n",
        "    |      id      |  minutes  |\n",
        "    |--------------------------|\n",
        "    |    61178     |    65     |\n",
        "    |    202352    |    80     |\n",
        "    |    364322    |    150    |\n",
        "    |    26177     |    20     |\n",
        "    |    224785    |    35     |\n",
        "    \n",
        "Обратите внимание, что ширина столбцов заранее неизвестна и должна рассчитываться динамически, в зависимости от тех данных, которые были выбраны. "
      ]
    },
    {
      "cell_type": "code",
      "execution_count": 3,
      "metadata": {
        "colab": {
          "base_uri": "https://localhost:8080/"
        },
        "id": "XfmI-ENmFMZZ",
        "outputId": "e7462664-77ae-4326-95e8-fc93ac60a109"
      },
      "outputs": [
        {
          "output_type": "stream",
          "name": "stdout",
          "text": [
            "|     id     |  minutes   |\n",
            "|-------------------------|\n",
            "|   210321   |     60     |\n",
            "|   155104   |     60     |\n",
            "|   87903    |     50     |\n",
            "|   318829   |     12     |\n",
            "|   204766   |     50     |\n"
          ]
        }
      ],
      "source": [
        "# Загрузка данных\n",
        "import pandas as pd\n",
        "recipes = pd.read_csv(\"recipes_sample.csv\")\n",
        "\n",
        "# Выбор случайных 5 рецептов и вывод таблицы\n",
        "sample_recipes = recipes.sample(n=5)\n",
        "print(\"| {:^10} | {:^10} |\".format(\"id\", \"minutes\"))\n",
        "print('|' + \"-\" * 25 + '|')\n",
        "for i, row in sample_recipes.iterrows():\n",
        "    print(\"| {:^10} | {:^10} |\".format(row['id'], row['minutes']))\n"
      ]
    },
    {
      "cell_type": "markdown",
      "metadata": {
        "id": "MEzHogJnEDBY"
      },
      "source": [
        "2\\. Напишите функцию `show_info`, которая по данным о рецепте создает строку (в смысле объекта python) с описанием следующего вида:\n",
        "\n",
        "```\n",
        "\"Название Из Нескольких Слов\"\n",
        "\n",
        "1. Шаг 1\n",
        "2. Шаг 2\n",
        "----------\n",
        "Автор: contributor_id\n",
        "Среднее время приготовления: minutes минут\n",
        "```\n",
        "\n",
        "    \n",
        "Данные для создания строки получите из файлов `recipes_sample.csv` (__ЛР2__) и `steps_sample.xml` (__ЛР3__). \n",
        "Вызовите данную функцию для рецепта с id `170895` и выведите (через `print`) полученную строку на экран."
      ]
    },
    {
      "cell_type": "code",
      "execution_count": 4,
      "metadata": {
        "colab": {
          "base_uri": "https://localhost:8080/"
        },
        "id": "CdWpCGjtEDBY",
        "outputId": "cd9764ea-d98e-4e61-95ef-362a9c1740fe"
      },
      "outputs": [
        {
          "output_type": "stream",
          "name": "stdout",
          "text": [
            "\"Leeks And Parsnips  Sauteed Or Creamed\"\n",
            "\n",
            "1. Clean the leeks and discard the dark green portions\n",
            "2. Cut the leeks lengthwise then into one-inch pieces\n",
            "3. Melt the butter in a medium skillet , med\n",
            "4. Heat\n",
            "5. Add the garlic and fry 'til fragrant\n",
            "6. Add leeks and fry until the leeks are tender , about 6-minutes\n",
            "7. Meanwhile , peel and chunk the parsnips into one-inch pieces\n",
            "8. Place in a steaming basket and steam 'til they are as tender as you prefer\n",
            "9. I like them fork-tender\n",
            "10. Drain parsnips and add to the skillet with the leeks\n",
            "11. Add salt and pepper\n",
            "12. Gently sautee together for 5-minutes\n",
            "13. At this point you can serve it , or continue on and cream it:\n",
            "14. In a jar with a screw top , add the half-n-half and arrowroot\n",
            "15. Shake 'til blended\n",
            "16. Turn heat to low under the leeks and parsnips\n",
            "17. Pour in the arrowroot mixture , stirring gently as you pour\n",
            "18. If too thick , gradually add the water\n",
            "19. Let simmer for a couple of minutes\n",
            "20. Taste to adjust seasoning , probably an additional 1 / 2 teaspoon salt\n",
            "21. Serve warm\n",
            "----------\n",
            "Автор: 8377\n",
            "Среднее время приготовления: 27 минут\n",
            "\n"
          ]
        }
      ],
      "source": [
        "import pandas as pd\n",
        "from bs4 import BeautifulSoup\n",
        "\n",
        "df_recipes = pd.read_csv('recipes_sample.csv')\n",
        "\n",
        "with open('steps_sample.xml') as f:\n",
        "    ab = BeautifulSoup(f, 'xml')\n",
        "\n",
        "steps_dict = {}\n",
        "for recipe in ab.find_all('recipe'):\n",
        "    recipe_id = int(recipe.id.text)\n",
        "    steps = [step.text for step in recipe.find_all('step')]\n",
        "    steps_dict[recipe_id] = steps\n",
        "\n",
        "def show_info(recipe_id):\n",
        "    row = df_recipes[df_recipes['id'] == recipe_id]\n",
        "    name = row['name'].iloc[0]\n",
        "    minutes = row['minutes'].iloc[0]\n",
        "    author_id = row['contributor_id'].iloc[0]\n",
        "    steps = steps_dict[recipe_id]\n",
        "\n",
        "    s = f'\"{name.title()}\"\\n\\n'\n",
        "    for index, step in enumerate(steps):\n",
        "        s += f'{index+1}. {step.capitalize()}\\n'\n",
        "    s += '-' * 10 + '\\n'\n",
        "    s += f'Автор: {author_id}\\n'\n",
        "    s += f'Среднее время приготовления: {minutes} минут\\n'\n",
        "\n",
        "    return s\n",
        "\n",
        "print(show_info(170895))"
      ]
    },
    {
      "cell_type": "markdown",
      "metadata": {
        "id": "uD-NGeKkEDBZ"
      },
      "source": [
        "## Работа с регулярными выражениями"
      ]
    },
    {
      "cell_type": "markdown",
      "metadata": {
        "id": "tMbWAymEEDBZ"
      },
      "source": [
        "3\\. Напишите регулярное выражение, которое ищет следующий паттерн в строке: число (1 цифра или более), затем пробел, затем слова: hour или hours или minute или minutes. Произведите поиск по данному регулярному выражению в каждом шаге рецепта с id 25082. Выведите на экран все непустые результаты, найденные по данному шаблону."
      ]
    },
    {
      "cell_type": "code",
      "execution_count": 6,
      "metadata": {
        "colab": {
          "base_uri": "https://localhost:8080/"
        },
        "id": "om8pmS8pFdfz",
        "outputId": "40bc40f4-a124-4c8e-9453-d176c432a327"
      },
      "outputs": [
        {
          "output_type": "stream",
          "name": "stdout",
          "text": [
            "Шаг 6: 20 minutes\n",
            "Шаг 8: 10 minutes\n",
            "Шаг 10: 2 hours\n",
            "Шаг 14: 10 minutes\n",
            "Шаг 17: 20 minutes, 30 minutes\n"
          ]
        }
      ],
      "source": [
        "import re\n",
        "import xml.etree.ElementTree as ET\n",
        "\n",
        "# чтение XML файла\n",
        "tree = ET.parse('steps_sample.xml')\n",
        "root = tree.getroot()\n",
        "\n",
        "# поиск шагов рецепта с id 25082\n",
        "for recipe in root.findall(\".//recipe[id='25082']\"):\n",
        "    for i, step in enumerate(recipe.findall(\"steps/step\"), 1):\n",
        "        matches = re.findall(r'\\d+\\s+(?:hour|minute)s?', step.text)\n",
        "        if matches:\n",
        "            print(f\"Шаг {i}: {', '.join(matches)}\")\n",
        "\n"
      ]
    },
    {
      "cell_type": "markdown",
      "metadata": {
        "id": "T7ZoK50IEDBZ"
      },
      "source": [
        "4\\. Напишите регулярное выражение, которое ищет шаблон вида \"this..., but\" _в начале строки_ . Между словом \"this\" и частью \", but\" может находиться произвольное число букв, цифр, знаков подчеркивания и пробелов. Никаких других символов вместо многоточия быть не может. Пробел между запятой и словом \"but\" может присутствовать или отсутствовать.\n",
        "\n",
        "Используя строковые методы `pd.Series`, выясните, для каких рецептов данный шаблон содержится в тексте описания. Выведите на экран количество таких рецептов и 3 примера подходящих описаний (текст описания должен быть виден на экране полностью)."
      ]
    },
    {
      "cell_type": "code",
      "execution_count": 7,
      "metadata": {
        "id": "9Bn30xJsFd9G",
        "colab": {
          "base_uri": "https://localhost:8080/"
        },
        "outputId": "06e64f17-6b4d-4d23-e976-28bc933cafb4"
      },
      "outputs": [
        {
          "output_type": "stream",
          "name": "stdout",
          "text": [
            "Количество подходящих описаний: 134\n",
            "15877                                                                                                                                                                                                                                                                                                                                                                                                                                                                                           this is how i make broccoflower, but it works well with broccoli, too.  two tbsp butter is usually plenty, but if you have a large head of broccoflower, you may want the 3 tbsp.\n",
            "3965                                                                                                                                                                                                                                                                                                                                                                                                                       this recipe is so good you will want to save it for company, but don't!  your family deserves to be pampered!  this is a very simple recipe that will remind you of fried rice and full of rich flavor!  i hope you enjoy this recipe as much as i do!\n",
            "29998    this is a delicious soup that i originally found on the better homes and gardens website, but i've seen it reprinted on a variety of other cooking and recipe sites.  i tried to research the background so i could accurately list its origin when posting this recipe.  but there doesn't seem to be any sort of consensus whether this soup is more accurately classified as a cajun or creole recipe. it seems to be one of those age-old questions that has no definite answer one way or the other, though most sites seem to agree that its roots are firmly planted in louisiana.  so, i'll leave it up to each individual to decide if this is cajun or creole.\n",
            "Name: description, dtype: object\n"
          ]
        }
      ],
      "source": [
        "import pandas as pd\n",
        "\n",
        "df = pd.read_csv('recipes_sample.csv')\n",
        "df['description'].fillna(' ', inplace=True)\n",
        "\n",
        "ptrn = '^this[\\w\\d\\s]+,[ ]?but'\n",
        "matches = df[df['description'].str.contains(ptrn, regex=True)]\n",
        "\n",
        "print('Количество подходящих описаний:', matches.shape[0])\n",
        "pd.set_option('max_colwidth', int(matches['description'].apply(len).max() + 10))\n",
        "print(matches['description'].sample(3))\n"
      ]
    },
    {
      "cell_type": "markdown",
      "metadata": {
        "id": "XB4--PDMEDBZ"
      },
      "source": [
        "5\\. В текстах шагов рецептов обыкновенные дроби имеют вид \"a / b\". Используя регулярные выражения, уберите в тексте шагов рецепта с id 72367 пробелы до и после символа дроби. Выведите на экран шаги этого рецепта после их изменения."
      ]
    },
    {
      "cell_type": "code",
      "execution_count": 8,
      "metadata": {
        "id": "7j4M62SjFeip",
        "colab": {
          "base_uri": "https://localhost:8080/"
        },
        "outputId": "95e59a2d-cfd7-4e79-c869-815863b3932a"
      },
      "outputs": [
        {
          "output_type": "stream",
          "name": "stdout",
          "text": [
            "mix butter , flour , 1/3 c\n",
            "sugar and 1-1/4 t\n",
            "vanilla\n",
            "press into greased 9\" springform pan\n",
            "mix cream cheese , 1/4 c\n",
            "sugar , eggs and 1/2 t\n",
            "vanilla beating until fluffy\n",
            "pour over dough\n",
            "combine apples , 1/3 c\n",
            "sugar and cinnamon\n",
            "arrange on top of cream cheese mixture and sprinkle with almonds\n",
            "bake at 350 for 45-55 minutes , or until tester comes out clean\n"
          ]
        }
      ],
      "source": [
        "import pandas as pd\n",
        "import xml.etree.ElementTree as ET\n",
        "import re\n",
        "\n",
        "tree = ET.parse('steps_sample.xml')\n",
        "root = tree.getroot()\n",
        "\n",
        "recipe_id = '72367'\n",
        "recipe_steps = root.findall(f\".//recipe[id='{recipe_id}']/steps/step\")\n",
        "\n",
        "for step in recipe_steps:\n",
        "    step_text = step.text\n",
        "    if step_text:\n",
        "        step_text = re.sub(r'\\s*/\\s*', '/', step_text)\n",
        "        step.text = step_text\n",
        "\n",
        "for step in recipe_steps:\n",
        "    print(step.text)\n"
      ]
    },
    {
      "cell_type": "markdown",
      "metadata": {
        "id": "Ix9NEK4QEDBZ"
      },
      "source": [
        "### Сегментация текста"
      ]
    },
    {
      "cell_type": "markdown",
      "metadata": {
        "id": "52wV-OR8EDBa"
      },
      "source": [
        "6\\. Разбейте тексты шагов рецептов на слова при помощи пакета `nltk`. Посчитайте и выведите на экран кол-во уникальных слов среди всех рецептов. Словом называется любая последовательность алфавитных символов (для проверки можно воспользоваться `str.isalpha`). При подсчете количества уникальных слов не учитывайте регистр."
      ]
    },
    {
      "cell_type": "code",
      "execution_count": 13,
      "metadata": {
        "id": "YEul3Cs6FfD0",
        "colab": {
          "base_uri": "https://localhost:8080/"
        },
        "outputId": "e64951b8-bee3-4836-f245-7760528ef1ce"
      },
      "outputs": [
        {
          "output_type": "stream",
          "name": "stdout",
          "text": [
            "Looking in indexes: https://pypi.org/simple, https://us-python.pkg.dev/colab-wheels/public/simple/\n",
            "Requirement already satisfied: nltk in /usr/local/lib/python3.9/dist-packages (3.8.1)\n",
            "Requirement already satisfied: tqdm in /usr/local/lib/python3.9/dist-packages (from nltk) (4.65.0)\n",
            "Requirement already satisfied: joblib in /usr/local/lib/python3.9/dist-packages (from nltk) (1.1.1)\n",
            "Requirement already satisfied: regex>=2021.8.3 in /usr/local/lib/python3.9/dist-packages (from nltk) (2022.10.31)\n",
            "Requirement already satisfied: click in /usr/local/lib/python3.9/dist-packages (from nltk) (8.1.3)\n",
            "Количество уникальных слов: 12730\n"
          ]
        }
      ],
      "source": [
        "!pip install nltk\n",
        "\n",
        "import nltk\n",
        "from nltk.tokenize.toktok import ToktokTokenizer\n",
        "\n",
        "# Создание словаря с шагами рецептов\n",
        "recipe_steps = {}\n",
        "for recipe in ab.find_all('recipe'):\n",
        "    recipe_id = int(recipe.id.text)\n",
        "    steps = [step.text for step in recipe.find_all('step')]\n",
        "    recipe_steps[recipe_id] = steps\n",
        "\n",
        "# Преобразование списка списков в один плоский список и перевод всех слов в нижний регистр\n",
        "flat_steps = [step.lower() for steps in recipe_steps.values() for step in steps]\n",
        "\n",
        "# Создание объекта токенизатора\n",
        "toktok = ToktokTokenizer()\n",
        "\n",
        "# Токенизация плоского списка и фильтрация только слов (исключая знаки пунктуации и цифры)\n",
        "token_list = toktok.tokenize(flat_steps)\n",
        "word_list = filter(str.isalpha, token_list)\n",
        "\n",
        "# Подсчет количества уникальных слов\n",
        "unique_word_set = set(word_list)\n",
        "print(f\"Количество уникальных слов: {len(unique_word_set)}\")\n"
      ]
    },
    {
      "cell_type": "markdown",
      "metadata": {
        "id": "sAbo7YEZEDBa"
      },
      "source": [
        "7\\. Разбейте описания рецептов из `recipes` на предложения при помощи пакета `nltk`. Найдите 5 самых длинных описаний (по количеству _предложений_) рецептов в датасете и выведите строки фрейма, соответствующие этим рецептами, в порядке убывания длины."
      ]
    },
    {
      "cell_type": "code",
      "execution_count": 16,
      "metadata": {
        "id": "R4c2y16xFfx-",
        "colab": {
          "base_uri": "https://localhost:8080/"
        },
        "outputId": "48e0ea4f-f128-4297-bead-894051a4d493"
      },
      "outputs": [
        {
          "output_type": "stream",
          "name": "stdout",
          "text": [
            "this wonderful icing is used for icing cakes and cookies as well as for borders and art work on cakes.  it makes a delicious filling also between the layers of cakes and under fondant icing.  you can make roses but it takes 3 or more days to dry them depending on the humidity. \r\n",
            "\r\n",
            "there are many versions of “buttercream” icing. some are made with eggs and all butter.  some varieties, you have to cook your sugar to a softball stage.  others are 100% shortening or a combination of shortening and butter.\r\n",
            "\r\n",
            "each decorator has his or her favorite.  i personally think that the best taste and textured recipe is the one that has you cook your sugar, add to whipped eggs and use pounds of butter per batch. but…. i live in a state that can easily be a 100 degrees for days on end during the summer and you know what butter does on hot days.  it melts!  a greasy puddle of melted icing on a cake plate is not something i want to look at or eat.  \r\n",
            "\r\n",
            "your top notch decorators have a few options we don’t.  they have huge refrigerators to store their cakes in, and refrigerated vehicles that they can use to deliver decorated cakes. i even know a few that refuse to deliver at all. if you want their cake, you come and get it and it’s your responsibility if it melts.  these decorators don’t even turn on their ovens for a wedding cake for less than $2000.  \r\n",
            "\r\n",
            "the following recipes for buttercream icing hold up pretty well in the heat and humidity, but if you know that your cake will be out in very high temperatures, then don’t use any butter and use only a high quality shortening.  \r\n",
            "\r\n",
            "shortening:  \r\n",
            "\r\n",
            "solid shortenings definitely have their place in baking. so i’m going to talk taste tests. crisco is the hands down winner. it has a clean taste with the melting point of 106 degrees. butter melts somewhere between 88 and 98 degrees f. depending on the amount of fat in the brand.  you can see that if you need to serve a pure buttercream decorated cake, on a hot august afternoon, you could have melted roses (and i do mean greasy puddles) on the tablecloth. this is when a good quality shortening will be a great blessing. i have been told by decorator friends that some of the warehouse brand shortenings leave a grainy consistency to the icing no matter what you do.  \r\n",
            "\r\n",
            "powdered (confectioner's) sugar:  \r\n",
            "\r\n",
            "regarding powdered sugar. please use a cane sugar. i prefer c&h powdered (confectioners) sugar.  many of the cheaper brands use sugar beets for their base.  i don’t know the chemistry behind it but you definitely get different textures to your icing that can vary from batch to batch.  i spent a few months being very frustrated with the quality of my icing until a kind lady did a bit of trouble shooting for me. she recommended the cane sugar and i’ve been blessing her ever since.\r\n",
            "\r\n",
            "top-quality brands:  \r\n",
            "\r\n",
            "please be safe, buy a quality brands and then stick with it for the best results. a friend of mine, who is a wonderful cook and baker, travels a lot and she often prepares treats for her hosts. she’s learned to ask the host to have her favorite shortening and flour on hand. she has even made up a little makeup type case that carries her favorite extracts and precious spices. that way she knows what she is working with, how it handles, and what tastes she can expect for the finished product. some surprises are not pleasant. \r\n",
            "\r\n",
            "storing buttercream icing: \r\n",
            "\r\n",
            "if you are not going to be using the icing right away, place it in a clean, sealable bowl. store it in the refrigerator but please don’t place it next to the marinating salmon, garlic or broccoli.  you do not want those flavors in your icing!  i like to use my icing within a few days but it will hold in the cold refrigerator for a couple of weeks if necessary.  \r\n",
            "\r\n",
            "i often make a double batch of icing the night before i have a baking project.  that way i know that i have plenty of icing, it’s fresh and i don’t have to make it while i’m in the middle of baking the cakes.  the extra can always be used for a batch of cupcakes.\r\n",
            "\r\n",
            "when you remove the icing from the refrigerator, you might notice that the icing has taken on a sponge like texture. do yourself a favor and place the icing in a bowl and mix by hand using a back and forth, smashing motion with a spoon or icing spatula. what you want to do is to smash the bubbles out of the icing. this extra step will help to give you the smoothest icing for a pretty top and sides of the cake. i have found that you will get an even better texture of icing if it is at room temperature before you try to do your icing.\r\n",
            "\r\n",
            "bad buttercream icing days:  \r\n",
            "\r\n",
            "one thing that seems very silly but is true. there are bad buttercream days! i’ve asked quite a few decorators about this and every one says “yes, there are lousy days”. i’m not sure what causes the problem. \r\n",
            "\r\n",
            "it could be that every human has bad days so they blame the buttercream. \r\n",
            "\r\n",
            "it may be the humidity or that there is a low pressure system hanging over your town. \r\n",
            "\r\n",
            "i just know why but it is a perceived fact. the way i have handled the problem is that i changed the decoration on the cake.  i couldn’t get the smooth top or sides as i originally planned. writing a greeting on a messy top would look awful so i changed the design idea and put flowers everywhere. i could have also done a basket weave technique around the sides. just go with the flow, and don’t get frustrated. aunt martha won’t chuck the cake at you if you don’t write her name on the top this time. remember that you are creating something that is to be eaten so have fun with it.  \r\n",
            "\r\n",
            "different mixers:\r\n",
            "\r\n",
            "if you have a heavy duty counter mixer, you can prepare a whole batch at one time.  if you are using a hand mixer, divide the recipe in half.  if you notice the mixer getting hot, please stop and let the machine cool off.\r\n",
            "\r\n",
            "i also prefer to mix the buttercream on a low setting. it seems that the higher setting do the job faster but you also will get a spongy texture to the icing. i don’t want that quality in my final ice coating or flowers on the cake. \r\n",
            "\r\n",
            "using weight scales:\r\n",
            "\r\n",
            "1 cup of crisco weighs 6 ounces.  \r\n",
            "\r\n",
            "i put a piece of wax paper on my scale and start plopping spoons of shortening on until i get the desired weight. it really saves on the cleanup.  \r\n",
            "\r\n",
            "\r\n",
            "\r\n",
            "recipe from peggy at whatscookingamerica.net\n",
            "--------------------------------------------------------------------------------\n",
            "a translucent golden-brown crust allows the green of the avocado to be seen.  the crispy exterior is a counterpoint to the unctuous interior.  these are a signature dish for me, and the one i most often get requests to make (although my seafood and ricotta stuffed buckwheat pancakes run a close second).\r\n",
            "\r\n",
            "these fritters came about ten years ago when i was shopping for a dinner i was making for a friend who is a cia-trained chef.  i was in a vegetable market and saw these gorgeous avocados that i just knew would be ripe in the next two days.  i tried to think of what i could do with them since a) everyone serves cold avocado, and b) i really am not fond of guacamole.  as i tried to think of what i could make with them that was hot, the work 'fritters' jumped into my head.  having never made a fritter before, i was a little surprised to have that thought; but having never known when a vegetable was going to be ripe before i figured i was on a roll and decided to go for it.\r\n",
            "\r\n",
            "to serve with my never-before-tried-fritters, i decided to make a crème fraîche-lime-cayenne dipping sauce.  so i made fresh crème fraîche, and used it as a base not only for this dip, but for a tia maria sauce to go with the flourless chocolate cake i made for dessert (another never-before made item, but with the recipe from cook's illustrated it was the only thing i wasn't making up as i went along).\r\n",
            "\r\n",
            "the result of the fritters was that i got to taste the test fritter, then had to dive across the couch before the last one was devoured in order to have a second.\r\n",
            "\r\n",
            "the one evolution in the recipe is the change from cayenne to chipotle in the dip.  i like the smokiness, and it gives a rough edge to something very smooth - i am all about contrast.  feel free to use whatever chile or combination thereof that you like best.  this dip is easy and stands on it's own at a party for anything you want to dip into it.  i have also made it with vegan sour cream with great results.\r\n",
            "\r\n",
            "the name alligator claws comes from an alternate name for the avocado: the alligator pear, as well as the fact that the wedges of avocado look like claws.\r\n",
            "\r\n",
            "(for those not familiar with the name alligator pear, it derives from both the tough, textured exterior - reminiscent of an alligator's hide, and the fact that you really can't eat one until it softens - just like a pear.)\r\n",
            "\r\n",
            "alligator claws are also a great name to call them if you have kids who either won't eat anything that sounds weird and you want to keep them to yourself, or - if you want your kids to eat them - if you have kids who'll only eat things that will gross other people out.\r\n",
            "\r\n",
            "if you are preparing these for kids (and i recommend you do whatever name you choose to call them), protect their palates and tone down the heat of the sauce.  maybe skip the chiles altogether and put in just a hint of finely ground pepper (white pepper won't look like black specks throughout the dip - i'm normally not that fussy, but it's something kids will notice).\r\n",
            "\r\n",
            "allow half an avocado per person.  this is so rich that more is too much.\r\n",
            "\r\n",
            "note:\r\n",
            "you can easily cut the recipe in half, all the batter is is a one-to-one mix of flour & water (someone has suggested trying tempura batter which comes in a mix at many supermarkets - i tend to be a from-scratch kind of guy.  or do i just mean itchy?).\r\n",
            "\r\n",
            "enjoy.\r\n",
            "\r\n",
            "-- text by michael david winter, aka the poker roach\n",
            "--------------------------------------------------------------------------------\n",
            "this is one of the best soups i've ever made and it is even worthy of company.  so simple, yet rich in deep, mushroomy flavor.  the inspiration was zaar #26877, a delicious mushroom rice casserole.  i found i couldn't stop eating the liquid before putting the casserole into the oven and that gave me the idea that the base  would make a delicious soup.  and it does! \r\n",
            "use plenty of fresh mushrooms.  i buy them when they are marked 1/2 price at the grocery, as this is a good way to use your 'shrooms that are starting to get dark.  it is the soy sauce that transforms the broth from ho-hum to yum.  i try to use low sodium or home-made no sodium chicken broth so that i can use the soy for the sodium.  there is no sense of \"asian\" in this soup at all.  ( i would not make this without the soy. )  just a little bit adds the depth of flavor and even color that transforms the soup.\r\n",
            "\r\n",
            "notes:\r\n",
            "1. if you want to make it into \"cream of\" just add some evaporated milk...delicious. \r\n",
            "\r\n",
            "2.  once i broke up a leftover ground sirloin burger into my soup bowl and nuked it...was that ever good.\r\n",
            "\r\n",
            "3. i did do this recipe with sinewy beef scraps cut from a roast once.  i browned the beef in the bottom of the pan, added the butter and onions and continued as written.  the beef added great color and flavor.  in this case, i threw the beef piece away, because it had too much sinew, but it was a great addition!  i ended up using less soy.\r\n",
            "\r\n",
            "4.  i have eye-ball made this soup with amounts i had in the fridge/cupboard and it was great.  so if you don't have that many mushrooms, make it anyway, just keep tasting it until it tastes good to you! \r\n",
            "\r\n",
            "5.  i've made it without food-processing the onions, and that worked just as well.\r\n",
            "\r\n",
            " lots of flexibility here!  try it, it might be the best barley mushroom soup you've ever had!\n",
            "--------------------------------------------------------------------------------\n",
            "i wrote this because there are an astounding lack of chocolate tea recipes on the internet. \r\n",
            "\r\n",
            " the first time i heard about chocolate tea was doing a web search on chocolate. there seem to be a few companies out there who sell chocolate tea. i like to stay up late and had run out of coffee. i was in real need for a good tasting caffene beverage. i first thought chocolate tea would be yucky. we are conditioned to accept chocolate with coffee as a rule but not tea. i was very mistaken! \r\n",
            "\r\n",
            " tea and chocolate goes very well with each other and it is also very good for your body. both tea and chocolate are loaded with antioxidents. you may however not want to give this to small children because of the caffene. \r\n",
            "\r\n",
            " not having a recipe to follow, i created one. (this one) i used these ingredients because i had them on hand and it was quicker than hunting around for my pepermint extract or messing with my powered cocoa.\r\n",
            "\r\n",
            " this being said, if you do want to use powered cocoa or pepermint extract instead of the ovaltine and lifesavers please do so. experiment. this recipe is \"opensource\" :-)\r\n",
            "\r\n",
            " you will have to adjust the sugar levels to taste. if you like you can even omit the mints. i used them and i find it gives the beverage that spceial something.\r\n",
            "\r\n",
            "this recipe makes one large coffee cup of beverage.\r\n",
            "\r\n",
            "if you use regular size coffee cups you may get two servings out of this if serving each person one serving each.\r\n",
            "\r\n",
            "to serve 1 serving each to 2 or 3 people using large coffee cups, double or tripple the recipie accodingly\r\n",
            "\r\n",
            "enjoy !\r\n",
            "\r\n",
            "please let me klnow if you like it! :-)\n",
            "--------------------------------------------------------------------------------\n",
            "the first time i made this cake i grated a million pounds of carrots on a knucklebuster.  then they invented cuisinarts!  now it is much faster to shred the carrots on a fine shredding disk and no bloody knuckles!  i have baked it in 8\", 9\", 9x13\" pans so if you want to experiment with pan size it works.  one thing i found was baking and stacking the three layers is tricky.  my favorite way is two 8\" pans for a nice layer cake and an 8\" square pan to put into the freezer for unexpected company. i hope you try this wonderful cake.  update:  in the spirit of carrot cake stories, this cake was invented by a bunny named foo-foo.  he is very famous and even has a hit song which goes like this: sing to the tune of 'down by the station'..........     \r\n",
            "\r\n",
            "\r\n",
            " little bunny foo foo,\r\n",
            "hopping through the forest,\r\n",
            "scooping up the field mice,\r\n",
            "and boppin' 'em on the head.\r\n",
            "\r\n",
            "down came the good fairy and she said - \r\n",
            "\r\n",
            "\"little bunny foo foo,\r\n",
            "i don't want to see you,\r\n",
            "scooping up the field mice,\r\n",
            "and boppin' 'em on the head.\r\n",
            "i'll give you three chances,\r\n",
            "and if you don't behave ...\r\n",
            "i'll turn you into a goon!\"\r\n",
            "\r\n",
            "the next day:\r\n",
            "\r\n",
            "little bunny foo foo,\r\n",
            "hopping through the forest,\r\n",
            "scooping up the field mice,\r\n",
            "and boppin' 'em on the head.\r\n",
            "\r\n",
            "down came the good fairy and she said:\r\n",
            "\r\n",
            "\"little bunny foo foo,\r\n",
            "i don't want to see you.\r\n",
            "scooping up the field mice.\r\n",
            "and boppin' 'em on the head.\r\n",
            "i'll give you two more chances,\r\n",
            "and if you don't behave...\r\n",
            "i'll turn you into a goon!\"\r\n",
            "\r\n",
            "the next day:\r\n",
            "\r\n",
            "little bunny foo foo,\r\n",
            "hopping through the forest,\r\n",
            "scooping up the field mice,\r\n",
            "and boppin' 'em on the head.\r\n",
            "\r\n",
            "down came the good fairy and she said:\r\n",
            "\r\n",
            "\"little bunny foo foo,\r\n",
            "i don't want to see you,\r\n",
            "scooping up the field mice,\r\n",
            "and boppin' 'em on the head.\r\n",
            "i'll give you one more chance,\r\n",
            "and if you don't behave..........\r\n",
            "i'll turn you into a goon!\"\r\n",
            "\r\n",
            "the next day:\r\n",
            "\r\n",
            "little bunny foo foo,\r\n",
            "hopping through the forest,\r\n",
            "scooping up the field mice,\r\n",
            "and boppin' 'em on the head,\r\n",
            "\r\n",
            "down came the good fairy and she said\r\n",
            "\r\n",
            "\"little bunny foo foo,\r\n",
            "i don't want to see you,\r\n",
            "scooping up the field mice,\r\n",
            "and boppin' 'em on the head.\r\n",
            "i gave you three chances\r\n",
            "and you didn't behave\r\n",
            "now you're a goon! poof!!\"\r\n",
            "\r\n",
            "the moral of the story is:\r\n",
            "hare today, goon tomorrow\n",
            "--------------------------------------------------------------------------------\n"
          ]
        }
      ],
      "source": [
        "import nltk\n",
        "import pandas as pd\n",
        "\n",
        "# Загрузка данных\n",
        "recipes = pd.read_csv('recipes_sample.csv')\n",
        "\n",
        "# Заполнение пропущенных значений в столбце 'description' пустой строкой\n",
        "recipes['description'] = recipes['description'].fillna('')\n",
        "\n",
        "# Преобразование значений столбца 'description' в тип str\n",
        "recipes['description'] = recipes['description'].astype(str)\n",
        "\n",
        "# Создание пустого списка для хранения количества предложений в каждом описании рецепта\n",
        "num_sentences = []\n",
        "\n",
        "# Разбиение описаний рецептов на предложения и подсчет количества предложений в каждом описании\n",
        "for desc in recipes['description']:\n",
        "    sentences = nltk.sent_tokenize(desc)\n",
        "    num_sentences.append(len(sentences))\n",
        "\n",
        "# Создание нового столбца 'num_sentences' в фрейме данных и заполнение его количеством предложений\n",
        "recipes['num_sentences'] = num_sentences\n",
        "\n",
        "# Сортировка фрейма данных по столбцу 'num_sentences' в порядке убывания\n",
        "recipes_sorted = recipes.sort_values(by='num_sentences', ascending=False)\n",
        "\n",
        "# Вывод пяти наиболее длинных описаний рецептов\n",
        "for desc in recipes_sorted.head(5)['description']:\n",
        "    print(desc)\n",
        "    print('-'*80)\n"
      ]
    },
    {
      "cell_type": "markdown",
      "metadata": {
        "id": "ceSn66AZEDBa"
      },
      "source": [
        "8\\. Напишите функцию, которая для заданного предложения выводит информацию о частях речи слов, входящих в предложение, в следующем виде:\n",
        "```\n",
        "PRP   VBD   DT      NNS     CC   VBD      NNS        RB   \n",
        " I  omitted the raspberries and added strawberries instead\n",
        "``` \n",
        "Для определения части речи слова можно воспользоваться `nltk.pos_tag`.\n",
        "\n",
        "Проверьте работоспособность функции на названии рецепта с id 241106.\n",
        "\n",
        "Обратите внимание, что часть речи должна находиться ровно посередине над соотвествующим словом, а между самими словами должен быть ровно один пробел.\n"
      ]
    },
    {
      "cell_type": "code",
      "source": [
        "import nltk\n",
        "\n",
        "nltk.download('averaged_perceptron_tagger')\n",
        "\n",
        "def print_pos_tags(sentence):\n",
        "    pos_tags = nltk.pos_tag(nltk.word_tokenize(sentence))\n",
        "    for word, pos in pos_tags:\n",
        "        print(\"{0:^10} {1}\".format(pos, word))\n",
        "\n",
        "# Название рецепта\n",
        "title = df[df.id == 241106]['name'].iloc[0]\n",
        "\n",
        "# Вывод информации о частях речи слов в названии рецепта\n",
        "print_pos_tags(title)\n"
      ],
      "metadata": {
        "colab": {
          "base_uri": "https://localhost:8080/"
        },
        "id": "i89MCEO6NHh0",
        "outputId": "b12e7d6c-2ea8-498d-869d-480f99cb0848"
      },
      "execution_count": 25,
      "outputs": [
        {
          "output_type": "stream",
          "name": "stdout",
          "text": [
            "    JJ     eggplant\n",
            "   NNS     steaks\n",
            "    IN     with\n",
            "   NNS     chickpeas\n",
            "   VBP     feta\n",
            "    JJ     cheese\n",
            "    CC     and\n",
            "    JJ     black\n",
            "   NNS     olives\n"
          ]
        },
        {
          "output_type": "stream",
          "name": "stderr",
          "text": [
            "[nltk_data] Downloading package averaged_perceptron_tagger to\n",
            "[nltk_data]     /root/nltk_data...\n",
            "[nltk_data]   Package averaged_perceptron_tagger is already up-to-\n",
            "[nltk_data]       date!\n"
          ]
        }
      ]
    }
  ],
  "metadata": {
    "colab": {
      "provenance": []
    },
    "kernelspec": {
      "display_name": "Python 3 (ipykernel)",
      "language": "python",
      "name": "python3"
    },
    "language_info": {
      "codemirror_mode": {
        "name": "ipython",
        "version": 3
      },
      "file_extension": ".py",
      "mimetype": "text/x-python",
      "name": "python",
      "nbconvert_exporter": "python",
      "pygments_lexer": "ipython3",
      "version": "3.9.7"
    }
  },
  "nbformat": 4,
  "nbformat_minor": 0
}