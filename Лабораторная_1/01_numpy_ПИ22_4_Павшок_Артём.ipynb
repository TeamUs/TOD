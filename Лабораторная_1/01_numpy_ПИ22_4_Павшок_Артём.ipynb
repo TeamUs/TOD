{
  "cells": [
    {
      "cell_type": "markdown",
      "metadata": {
        "id": "X4kjaN3bGt4H"
      },
      "source": [
        "# Numpy"
      ]
    },
    {
      "cell_type": "markdown",
      "metadata": {
        "id": "fJZZ6Q79Gt4Q"
      },
      "source": [
        "Материалы:\n",
        "* Макрушин С.В. \"Лекция 1: Библиотека Numpy\"\n",
        "* https://numpy.org/doc/stable/user/index.html\n",
        "* https://numpy.org/doc/stable/reference/index.html"
      ]
    },
    {
      "cell_type": "markdown",
      "metadata": {
        "id": "w7MOWR-IGt4S"
      },
      "source": [
        "## Задачи для совместного разбора"
      ]
    },
    {
      "cell_type": "markdown",
      "metadata": {
        "id": "7wdVLTDuGt4T"
      },
      "source": [
        "1. Сгенерировать двухмерный массив `arr` размерности (4, 7), состоящий из случайных действительных чисел, равномерно распределенных в диапазоне от 0 до 20. Нормализовать значения массива с помощью преобразования вида  $𝑎𝑥+𝑏$  так, что после нормализации максимальный элемент масcива будет равен 1.0, минимальный 0.0"
      ]
    },
    {
      "cell_type": "code",
      "source": [
        "#1\n",
        "\n",
        "import numpy as np\n",
        "\n",
        "arr = np.random.uniform(0, 20, size=(4, 7))\n",
        "max_val = np.max(arr)\n",
        "min_val = np.min(arr)\n",
        "a = 1 / (max_val - min_val)\n",
        "b = -a * min_val\n",
        "normalized_arr = a * arr + b\n",
        "\n",
        "print(arr)\n",
        "print(normalized_arr)"
      ],
      "metadata": {
        "colab": {
          "base_uri": "https://localhost:8080/"
        },
        "id": "jIxOOxl1H0cd",
        "outputId": "7c3646a6-e712-46a8-e03c-d8bef5af5d44"
      },
      "execution_count": 31,
      "outputs": [
        {
          "output_type": "stream",
          "name": "stdout",
          "text": [
            "[[ 5.22514898 14.04876445 13.63727244  9.63243216  2.87075456  4.07350154\n",
            "   7.09798551]\n",
            " [11.67507683 12.28720929  3.62361062  6.73791076  0.7994141  15.69376391\n",
            "  18.39861827]\n",
            " [ 4.89073974 13.04168778 13.74623928  9.34686528  2.72225528 16.81648183\n",
            "   8.79079653]\n",
            " [11.21564742 11.05949519  6.80676967  5.6535237  19.56049058  6.07229633\n",
            "  13.98478795]]\n",
            "[[0.23589984 0.70621483 0.68428154 0.47081616 0.11040627 0.1745149\n",
            "  0.33572548]\n",
            " [0.57969289 0.61232068 0.15053489 0.31653283 0.         0.79389633\n",
            "  0.93807006]\n",
            " [0.21807521 0.65253578 0.69008968 0.45559492 0.10249098 0.85373927\n",
            "  0.42595543]\n",
            " [0.55520446 0.54688126 0.32020314 0.258733   1.         0.28105435\n",
            "  0.70280476]]\n"
          ]
        }
      ]
    },
    {
      "cell_type": "markdown",
      "metadata": {
        "id": "n1RsrMbFGt4V"
      },
      "source": [
        "2. Создать матрицу 8 на 10 из случайных целых (используя модуль `numpy.random`) чисел из диапозона от 0 до 10 и найти в ней строку (ее индекс и вывести саму строку), в которой сумма значений минимальна."
      ]
    },
    {
      "cell_type": "code",
      "source": [
        "#2\n",
        "\n",
        "matrix = np.random.randint(0, 11, size=(8, 10))\n",
        "row_sums = np.sum(matrix, axis=1)\n",
        "min_row_index = np.argmin(row_sums)\n",
        "min_row = matrix[min_row_index, :]\n",
        "print(\"Минимальная сумма в строке с индексом\", min_row_index)\n",
        "print(min_row)\n"
      ],
      "metadata": {
        "colab": {
          "base_uri": "https://localhost:8080/"
        },
        "id": "k6la_qYjH8fI",
        "outputId": "9c007f04-bfd7-4b54-e281-3f000a27486e"
      },
      "execution_count": 32,
      "outputs": [
        {
          "output_type": "stream",
          "name": "stdout",
          "text": [
            "Минимальная сумма в строке с индексом 6\n",
            "[4 0 9 9 1 1 5 1 0 1]\n"
          ]
        }
      ]
    },
    {
      "cell_type": "markdown",
      "metadata": {
        "id": "4fe3zl5bGt4V"
      },
      "source": [
        "3. Найти евклидово расстояние между двумя одномерными векторами одинаковой размерности."
      ]
    },
    {
      "cell_type": "code",
      "source": [
        "#3\n",
        "\n",
        "a = np.array([1, 2, 3])\n",
        "b = np.array([4, 5, 6])\n",
        "distance = np.linalg.norm(a - b)\n",
        "print(distance)\n"
      ],
      "metadata": {
        "colab": {
          "base_uri": "https://localhost:8080/"
        },
        "id": "Fv2j-gD_H9Sp",
        "outputId": "5e9bc3ca-2349-4a45-d81a-a8cf178b67be"
      },
      "execution_count": 33,
      "outputs": [
        {
          "output_type": "stream",
          "name": "stdout",
          "text": [
            "5.196152422706632\n"
          ]
        }
      ]
    },
    {
      "cell_type": "markdown",
      "metadata": {
        "id": "7SGbsWLeGt4W"
      },
      "source": [
        "4. Решить матричное уравнение `A*X*B=-C` - найти матрицу `X`. Где `A = [[-1, 2, 4], [-3, 1, 2], [-3, 0, 1]]`, `B=[[3, -1], [2, 1]]`, `C=[[7, 21], [11, 8], [8, 4]]`."
      ]
    },
    {
      "cell_type": "code",
      "source": [
        "#4\n",
        "\n",
        "\n",
        "A = np.array([[-1, 2, 4], [-3, 1, 2], [-3, 0, 1]])\n",
        "B = np.array([[3, -1], [2, 1]])\n",
        "C = np.array([[7, 21], [11, 8], [8, 4]])\n",
        "X = -np.linalg.inv(A) @ C @ np.linalg.inv(B)\n",
        "print(X)\n"
      ],
      "metadata": {
        "colab": {
          "base_uri": "https://localhost:8080/"
        },
        "id": "cgE6-vynH-OZ",
        "outputId": "21ad2876-1d95-41b7-f9c8-93ff5cd5434b"
      },
      "execution_count": 34,
      "outputs": [
        {
          "output_type": "stream",
          "name": "stdout",
          "text": [
            "[[ 1.00000000e+00  5.32907052e-16]\n",
            " [-2.00000000e+00  1.00000000e+00]\n",
            " [ 3.00000000e+00 -4.00000000e+00]]\n"
          ]
        }
      ]
    },
    {
      "cell_type": "markdown",
      "metadata": {
        "id": "oy6OGXfbGt4X"
      },
      "source": [
        "## Лабораторная работа №1"
      ]
    },
    {
      "cell_type": "markdown",
      "metadata": {
        "id": "OYYEdCOVGt4Y"
      },
      "source": [
        "Замечание: при решении данных задач не подразумевается использования циклов или генераторов Python, если в задании не сказано обратного. Решение должно опираться на использования функционала библиотеки `numpy`."
      ]
    },
    {
      "cell_type": "markdown",
      "metadata": {
        "id": "T9lRwSMCGt4Y"
      },
      "source": [
        "1. Файл `minutes_n_ingredients.csv` содержит информацию об идентификаторе рецепта, времени его выполнения в минутах и количестве необходимых ингредиентов. Считайте данные из этого файла в виде массива `numpy` типа `int32`, используя `np.loadtxt`. Выведите на экран первые 5 строк массива."
      ]
    },
    {
      "cell_type": "code",
      "source": [
        "#1\n",
        "\n",
        "import numpy as np\n",
        "\n",
        "data = np.loadtxt('minutes_n_ingredients.csv', delimiter=',', dtype=np.int32,skiprows=1)\n",
        "print(data[:5, :])\n"
      ],
      "metadata": {
        "colab": {
          "base_uri": "https://localhost:8080/"
        },
        "id": "eMihSA11IkQI",
        "outputId": "2684a983-1165-4100-9f77-72ac6f5adc0d"
      },
      "execution_count": 35,
      "outputs": [
        {
          "output_type": "stream",
          "name": "stdout",
          "text": [
            "[[127244     60     16]\n",
            " [ 23891     25      7]\n",
            " [ 94746     10      6]\n",
            " [ 67660      5      6]\n",
            " [157911     60     14]]\n"
          ]
        }
      ]
    },
    {
      "cell_type": "markdown",
      "metadata": {
        "id": "nozJ3o_qGt4Z"
      },
      "source": [
        "2. Вычислите среднее значение, минимум, максимум и медиану по каждому из столбцов, кроме первого."
      ]
    },
    {
      "cell_type": "code",
      "source": [
        "#2\n",
        "\n",
        "mean = np.mean(data[:, 1:], axis=0)\n",
        "min_val = np.min(data[:, 1:], axis=0)\n",
        "max_val = np.max(data[:, 1:], axis=0)\n",
        "median = np.median(data[:, 1:], axis=0)\n",
        "print(\"Среднее значение: \", mean)\n",
        "print(\"Минимум: \", min_val)\n",
        "print(\"Максимум: \", max_val)\n",
        "print(\"Медиана: \", median)\n"
      ],
      "metadata": {
        "colab": {
          "base_uri": "https://localhost:8080/"
        },
        "id": "CNQVsTLcIk1Q",
        "outputId": "969e0141-3002-410c-d74d-86a30821f440"
      },
      "execution_count": 36,
      "outputs": [
        {
          "output_type": "stream",
          "name": "stdout",
          "text": [
            "Среднее значение:  [2.16010017e+04 9.05528000e+00]\n",
            "Минимум:  [0 1]\n",
            "Максимум:  [2147483647         39]\n",
            "Медиана:  [40.  9.]\n"
          ]
        }
      ]
    },
    {
      "cell_type": "markdown",
      "metadata": {
        "id": "a0r-nrrBGt4Z"
      },
      "source": [
        "3. Ограничьте сверху значения продолжительности выполнения рецепта значением квантиля $q_{0.75}$. "
      ]
    },
    {
      "cell_type": "code",
      "source": [
        "#3\n",
        "\n",
        "q = 0.75\n",
        "time_quantile = np.quantile(data[:, 1], q)\n",
        "data[:, 1] = np.where(data[:, 1] > time_quantile, time_quantile, data[:, 1])\n",
        "print(data)\n"
      ],
      "metadata": {
        "colab": {
          "base_uri": "https://localhost:8080/"
        },
        "id": "IrUxtdiwIlhu",
        "outputId": "5aafc6a8-7e0c-47c9-addb-6d259ad93fd6"
      },
      "execution_count": 37,
      "outputs": [
        {
          "output_type": "stream",
          "name": "stdout",
          "text": [
            "[[127244     60     16]\n",
            " [ 23891     25      7]\n",
            " [ 94746     10      6]\n",
            " ...\n",
            " [498432     65     15]\n",
            " [370915      5      4]\n",
            " [ 81993     65     14]]\n"
          ]
        }
      ]
    },
    {
      "cell_type": "markdown",
      "metadata": {
        "id": "R52Y_JHYGt4a"
      },
      "source": [
        "4. Посчитайте, для скольких рецептов указана продолжительность, равная нулю. Замените для таких строк значение в данном столбце на 1."
      ]
    },
    {
      "cell_type": "code",
      "source": [
        "#4\n",
        "\n",
        "num_zero_times = np.sum(data[:, 1] == 0)\n",
        "print(\"Количество рецептов со временем выполнения, равным 0: \", num_zero_times)\n",
        "data[:, 1] = np.where(data[:, 1] == 0, 1, data[:, 1])\n"
      ],
      "metadata": {
        "colab": {
          "base_uri": "https://localhost:8080/"
        },
        "id": "tQajn57OImK2",
        "outputId": "4dc33a97-74a9-4958-b5b2-777a0ebd3eab"
      },
      "execution_count": 38,
      "outputs": [
        {
          "output_type": "stream",
          "name": "stdout",
          "text": [
            "Количество рецептов со временем выполнения, равным 0:  479\n"
          ]
        }
      ]
    },
    {
      "cell_type": "markdown",
      "metadata": {
        "id": "JujwRIAjGt4a"
      },
      "source": [
        "5. Посчитайте, сколько уникальных рецептов находится в датасете."
      ]
    },
    {
      "cell_type": "code",
      "source": [
        "#5\n",
        "\n",
        "unique_recipes = np.unique(data[:, 0])\n",
        "num_unique_recipes = len(unique_recipes)\n",
        "print(\"Количество уникальных рецептов: \", num_unique_recipes)\n"
      ],
      "metadata": {
        "colab": {
          "base_uri": "https://localhost:8080/"
        },
        "id": "6g_CHRRQIm40",
        "outputId": "19ea6cca-0a1a-4062-b742-b0f65c1ef125"
      },
      "execution_count": 39,
      "outputs": [
        {
          "output_type": "stream",
          "name": "stdout",
          "text": [
            "Количество уникальных рецептов:  100000\n"
          ]
        }
      ]
    },
    {
      "cell_type": "markdown",
      "metadata": {
        "id": "5_hJxxLCGt4b"
      },
      "source": [
        "6. Сколько и каких различных значений кол-ва ингредиентов присутвует в рецептах из датасета?"
      ]
    },
    {
      "cell_type": "code",
      "source": [
        "#6\n",
        "\n",
        "unique_ingredient_counts = np.unique(data[:, 2])\n",
        "num_unique_ingredient_counts = len(unique_ingredient_counts)\n",
        "print(\"Количество уникальных значений количества ингредиентов: \", num_unique_ingredient_counts)\n",
        "print(\"Уникальные значения количества ингредиентов: \", unique_ingredient_counts)\n"
      ],
      "metadata": {
        "colab": {
          "base_uri": "https://localhost:8080/"
        },
        "id": "KnyJt2XxIn1U",
        "outputId": "b7ecffb4-2332-46ce-fd39-2c2b15b096e2"
      },
      "execution_count": 40,
      "outputs": [
        {
          "output_type": "stream",
          "name": "stdout",
          "text": [
            "Количество уникальных значений количества ингредиентов:  37\n",
            "Уникальные значения количества ингредиентов:  [ 1  2  3  4  5  6  7  8  9 10 11 12 13 14 15 16 17 18 19 20 21 22 23 24\n",
            " 25 26 27 28 29 30 31 32 33 34 35 37 39]\n"
          ]
        }
      ]
    },
    {
      "cell_type": "markdown",
      "metadata": {
        "id": "8jGw-Qq4Gt4b"
      },
      "source": [
        "7. Создайте версию массива, содержащую информацию только о рецептах, состоящих не более чем из 5 ингредиентов."
      ]
    },
    {
      "cell_type": "code",
      "source": [
        "#7\n",
        "\n",
        "less_than_5_ingredients = data[data[:, 2] <= 5]\n",
        "print(less_than_5_ingredients)\n"
      ],
      "metadata": {
        "colab": {
          "base_uri": "https://localhost:8080/"
        },
        "id": "XTVlwrvrIoap",
        "outputId": "c16b6106-8983-41b1-bdfa-456ee96fd02c"
      },
      "execution_count": 41,
      "outputs": [
        {
          "output_type": "stream",
          "name": "stdout",
          "text": [
            "[[446597     15      5]\n",
            " [204134      5      3]\n",
            " [ 25623      6      4]\n",
            " ...\n",
            " [ 52088     60      5]\n",
            " [128811     15      4]\n",
            " [370915      5      4]]\n"
          ]
        }
      ]
    },
    {
      "cell_type": "markdown",
      "metadata": {
        "id": "-tJ2TIFhGt4b"
      },
      "source": [
        "8. Для каждого рецепта посчитайте, сколько в среднем ингредиентов приходится на одну минуту рецепта. Найдите максимальное значение этой величины для всего датасета"
      ]
    },
    {
      "cell_type": "code",
      "source": [
        "#8\n",
        "\n",
        "avg_ingredients_per_minute = data[:, 2] / data[:, 1]\n",
        "print(avg_ingredients_per_minute)\n",
        "\n",
        "max_avg_ingredients_per_minute = np.max(avg_ingredients_per_minute)\n",
        "print(max_avg_ingredients_per_minute)\n"
      ],
      "metadata": {
        "colab": {
          "base_uri": "https://localhost:8080/"
        },
        "id": "eB4ZTufXIpJ1",
        "outputId": "30d0e947-582a-489e-e974-069a8f063e26"
      },
      "execution_count": 42,
      "outputs": [
        {
          "output_type": "stream",
          "name": "stdout",
          "text": [
            "[0.26666667 0.28       0.6        ... 0.23076923 0.8        0.21538462]\n",
            "24.0\n"
          ]
        }
      ]
    },
    {
      "cell_type": "markdown",
      "metadata": {
        "id": "2PqU-FfZGt4c"
      },
      "source": [
        "9. Вычислите среднее количество ингредиентов для топ-100 рецептов с наибольшей продолжительностью"
      ]
    },
    {
      "cell_type": "code",
      "source": [
        "#9\n",
        "\n",
        "sorted_data = data[data[:, 1].argsort()[::-1]] # сортируем по убыванию времени выполнения\n",
        "top_100 = sorted_data[:100]\n",
        "avg_ingredients_top_100 = np.mean(top_100[:, 2])\n",
        "print(avg_ingredients_top_100)\n"
      ],
      "metadata": {
        "colab": {
          "base_uri": "https://localhost:8080/"
        },
        "id": "ir45WiTaIp7J",
        "outputId": "d77e969f-fd52-4160-8f07-4055ff310abd"
      },
      "execution_count": 43,
      "outputs": [
        {
          "output_type": "stream",
          "name": "stdout",
          "text": [
            "9.96\n"
          ]
        }
      ]
    },
    {
      "cell_type": "markdown",
      "metadata": {
        "id": "pFs8XxEqGt4c"
      },
      "source": [
        "10. Выберите случайным образом и выведите информацию о 10 различных рецептах"
      ]
    },
    {
      "cell_type": "code",
      "source": [
        "#10\n",
        "import random\n",
        "import numpy as np\n",
        "\n",
        "indices = random.sample(range(data.shape[0]), k=10)\n",
        "random_recipes = data[indices]\n",
        "print(random_recipes)\n",
        "\n"
      ],
      "metadata": {
        "colab": {
          "base_uri": "https://localhost:8080/"
        },
        "id": "LTRtLd1WIqqG",
        "outputId": "40e4bbf2-24d0-45b5-98e2-f4851bf7fd0f"
      },
      "execution_count": 44,
      "outputs": [
        {
          "output_type": "stream",
          "name": "stdout",
          "text": [
            "[[121507      5      3]\n",
            " [179325     40      6]\n",
            " [394176     65     12]\n",
            " [ 84049     38     13]\n",
            " [377194      7      6]\n",
            " [482123     45     11]\n",
            " [136825     45      8]\n",
            " [ 67057     65      4]\n",
            " [390602     65     14]\n",
            " [363748     65      5]]\n"
          ]
        }
      ]
    },
    {
      "cell_type": "markdown",
      "metadata": {
        "id": "VV5qVtH4Gt4d"
      },
      "source": [
        "11. Выведите процент рецептов, кол-во ингредиентов в которых меньше среднего."
      ]
    },
    {
      "cell_type": "code",
      "source": [
        "#11\n",
        "\n",
        "less_than_avg = data[data[:, 2] < np.mean(data[:, 2])]\n",
        "percent_less_than_avg = len(less_than_avg) / len(data) * 100\n",
        "print(percent_less_than_avg)\n"
      ],
      "metadata": {
        "colab": {
          "base_uri": "https://localhost:8080/"
        },
        "id": "cn0rIHAoIrTr",
        "outputId": "bf122326-c2ff-4aff-9cf0-0f7e27faf927"
      },
      "execution_count": 45,
      "outputs": [
        {
          "output_type": "stream",
          "name": "stdout",
          "text": [
            "58.802\n"
          ]
        }
      ]
    },
    {
      "cell_type": "markdown",
      "metadata": {
        "id": "vMJ1DvukGt4d"
      },
      "source": [
        "12. Назовем \"простым\" такой рецепт, длительность выполнения которого не больше 20 минут и кол-во ингредиентов в котором не больше 5. Создайте версию датасета с дополнительным столбцом, значениями которого являются 1, если рецепт простой, и 0 в противном случае."
      ]
    },
    {
      "cell_type": "code",
      "source": [
        "#12\n",
        "\n",
        "simple_recipes = np.logical_and(data[:, 1] <= 20, data[:, 2] <= 5)\n",
        "simple_recipes = simple_recipes.astype(int)\n",
        "data_with_simple_col = np.column_stack((data, simple_recipes))\n",
        "print(data_with_simple_col)\n"
      ],
      "metadata": {
        "colab": {
          "base_uri": "https://localhost:8080/"
        },
        "id": "DHDzePbnIr-H",
        "outputId": "9edd5003-9834-48ff-cbc9-6cc9804cd102"
      },
      "execution_count": 46,
      "outputs": [
        {
          "output_type": "stream",
          "name": "stdout",
          "text": [
            "[[127244     60     16      0]\n",
            " [ 23891     25      7      0]\n",
            " [ 94746     10      6      0]\n",
            " ...\n",
            " [498432     65     15      0]\n",
            " [370915      5      4      1]\n",
            " [ 81993     65     14      0]]\n"
          ]
        }
      ]
    },
    {
      "cell_type": "markdown",
      "metadata": {
        "id": "4wi3TxIyGt4d"
      },
      "source": [
        "13. Выведите процент \"простых\" рецептов в датасете"
      ]
    },
    {
      "cell_type": "code",
      "source": [
        "#13\n",
        "\n",
        "num_simple_recipes = np.sum(data_with_simple_col[:, 3])\n",
        "total_recipes = data_with_simple_col.shape[0]\n",
        "percent_simple_recipes = (num_simple_recipes / total_recipes) * 100\n",
        "print(\"Процент простых рецептов: \", percent_simple_recipes)\n"
      ],
      "metadata": {
        "colab": {
          "base_uri": "https://localhost:8080/"
        },
        "id": "hVmRd3XPIs2d",
        "outputId": "b9583f63-4dea-40d4-972d-365fbf2d0f97"
      },
      "execution_count": 47,
      "outputs": [
        {
          "output_type": "stream",
          "name": "stdout",
          "text": [
            "Процент простых рецептов:  9.552\n"
          ]
        }
      ]
    },
    {
      "cell_type": "markdown",
      "metadata": {
        "id": "7CnUo76aGt4e"
      },
      "source": [
        "14. Разделим рецепты на группы по следующему правилу. Назовем рецепты короткими, если их продолжительность составляет менее 10 минут; стандартными, если их продолжительность составляет более 10, но менее 20 минут; и длинными, если их продолжительность составляет не менее 20 минут. Создайте трехмерный массив, где нулевая ось отвечает за номер группы (короткий, стандартный или длинный рецепт), первая ось - за сам рецепт и вторая ось - за характеристики рецепта. Выберите максимальное количество рецептов из каждой группы таким образом, чтобы было возможно сформировать трехмерный массив. Выведите форму полученного массива."
      ]
    },
    {
      "cell_type": "code",
      "execution_count": 48,
      "metadata": {
        "colab": {
          "base_uri": "https://localhost:8080/"
        },
        "id": "GnYN4hD8Gt4e",
        "outputId": "6356aee7-f291-4866-82e0-a1ef76ee5f90"
      },
      "outputs": [
        {
          "output_type": "stream",
          "name": "stdout",
          "text": [
            "(3, 7588, 3)\n"
          ]
        }
      ],
      "source": [
        "#14\n",
        "\n",
        "short_recipes = data[data[:, 1] < 10]\n",
        "standard_recipes = data[np.logical_and(data[:, 1] >= 10, data[:, 1] <= 20)]\n",
        "long_recipes = data[data[:, 1] > 20]\n",
        "\n",
        "max_num_recipes = min(len(short_recipes), len(standard_recipes), len(long_recipes))\n",
        "short_recipes = short_recipes[:max_num_recipes]\n",
        "standard_recipes = standard_recipes[:max_num_recipes]\n",
        "long_recipes = long_recipes[:max_num_recipes]\n",
        "\n",
        "recipes_array = np.zeros((3, max_num_recipes, 3), dtype='int32')\n",
        "recipes_array[0, :, :] = short_recipes\n",
        "recipes_array[1, :, :] = standard_recipes\n",
        "recipes_array[2, :, :] = long_recipes\n",
        "\n",
        "print(recipes_array.shape)\n"
      ]
    }
  ],
  "metadata": {
    "kernelspec": {
      "display_name": "Python 3",
      "language": "python",
      "name": "python3"
    },
    "language_info": {
      "codemirror_mode": {
        "name": "ipython",
        "version": 3
      },
      "file_extension": ".py",
      "mimetype": "text/x-python",
      "name": "python",
      "nbconvert_exporter": "python",
      "pygments_lexer": "ipython3",
      "version": "3.7.6"
    },
    "colab": {
      "provenance": []
    }
  },
  "nbformat": 4,
  "nbformat_minor": 0
}