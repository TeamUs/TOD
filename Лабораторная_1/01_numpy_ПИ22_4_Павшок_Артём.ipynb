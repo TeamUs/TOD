{
  "cells": [
    {
      "cell_type": "markdown",
      "metadata": {
        "id": "X4kjaN3bGt4H"
      },
      "source": [
        "# Numpy"
      ]
    },
    {
      "cell_type": "markdown",
      "metadata": {
        "id": "fJZZ6Q79Gt4Q"
      },
      "source": [
        "Материалы:\n",
        "* Макрушин С.В. \"Лекция 1: Библиотека Numpy\"\n",
        "* https://numpy.org/doc/stable/user/index.html\n",
        "* https://numpy.org/doc/stable/reference/index.html"
      ]
    },
    {
      "cell_type": "markdown",
      "metadata": {
        "id": "w7MOWR-IGt4S"
      },
      "source": [
        "## Задачи для совместного разбора"
      ]
    },
    {
      "cell_type": "markdown",
      "metadata": {
        "id": "7wdVLTDuGt4T"
      },
      "source": [
        "1. Сгенерировать двухмерный массив `arr` размерности (4, 7), состоящий из случайных действительных чисел, равномерно распределенных в диапазоне от 0 до 20. Нормализовать значения массива с помощью преобразования вида  $𝑎𝑥+𝑏$  так, что после нормализации максимальный элемент масcива будет равен 1.0, минимальный 0.0"
      ]
    },
    {
      "cell_type": "code",
      "source": [
        "#1\n",
        "\n",
        "import numpy as np\n",
        "\n",
        "arr = np.random.uniform(0, 20, size=(4, 7))\n",
        "max_val = np.max(arr)\n",
        "min_val = np.min(arr)\n",
        "a = 1 / (max_val - min_val)\n",
        "b = -a * min_val\n",
        "normalized_arr = a * arr + b\n",
        "\n",
        "print(arr)\n",
        "print(normalized_arr)"
      ],
      "metadata": {
        "id": "jIxOOxl1H0cd"
      },
      "execution_count": null,
      "outputs": []
    },
    {
      "cell_type": "markdown",
      "metadata": {
        "id": "n1RsrMbFGt4V"
      },
      "source": [
        "2. Создать матрицу 8 на 10 из случайных целых (используя модуль `numpy.random`) чисел из диапозона от 0 до 10 и найти в ней строку (ее индекс и вывести саму строку), в которой сумма значений минимальна."
      ]
    },
    {
      "cell_type": "code",
      "source": [
        "#2\n",
        "\n",
        "matrix = np.random.randint(0, 11, size=(8, 10))\n",
        "row_sums = np.sum(matrix, axis=1)\n",
        "min_row_index = np.argmin(row_sums)\n",
        "min_row = matrix[min_row_index, :]\n",
        "print(\"Минимальная сумма в строке с индексом\", min_row_index)\n",
        "print(min_row)\n"
      ],
      "metadata": {
        "id": "k6la_qYjH8fI"
      },
      "execution_count": null,
      "outputs": []
    },
    {
      "cell_type": "markdown",
      "metadata": {
        "id": "4fe3zl5bGt4V"
      },
      "source": [
        "3. Найти евклидово расстояние между двумя одномерными векторами одинаковой размерности."
      ]
    },
    {
      "cell_type": "code",
      "source": [
        "#3\n",
        "\n",
        "a = np.array([1, 2, 3])\n",
        "b = np.array([4, 5, 6])\n",
        "distance = np.linalg.norm(a - b)\n",
        "print(distance)\n"
      ],
      "metadata": {
        "id": "Fv2j-gD_H9Sp"
      },
      "execution_count": null,
      "outputs": []
    },
    {
      "cell_type": "markdown",
      "metadata": {
        "id": "7SGbsWLeGt4W"
      },
      "source": [
        "4. Решить матричное уравнение `A*X*B=-C` - найти матрицу `X`. Где `A = [[-1, 2, 4], [-3, 1, 2], [-3, 0, 1]]`, `B=[[3, -1], [2, 1]]`, `C=[[7, 21], [11, 8], [8, 4]]`."
      ]
    },
    {
      "cell_type": "code",
      "source": [
        "#4\n",
        "\n",
        "\n",
        "A = np.array([[-1, 2, 4], [-3, 1, 2], [-3, 0, 1]])\n",
        "B = np.array([[3, -1], [2, 1]])\n",
        "C = np.array([[7, 21], [11, 8], [8, 4]])\n",
        "X = -np.linalg.inv(A) @ C @ np.linalg.inv(B)\n",
        "print(X)\n"
      ],
      "metadata": {
        "id": "cgE6-vynH-OZ"
      },
      "execution_count": null,
      "outputs": []
    },
    {
      "cell_type": "markdown",
      "metadata": {
        "id": "oy6OGXfbGt4X"
      },
      "source": [
        "## Лабораторная работа №1"
      ]
    },
    {
      "cell_type": "markdown",
      "metadata": {
        "id": "OYYEdCOVGt4Y"
      },
      "source": [
        "Замечание: при решении данных задач не подразумевается использования циклов или генераторов Python, если в задании не сказано обратного. Решение должно опираться на использования функционала библиотеки `numpy`."
      ]
    },
    {
      "cell_type": "markdown",
      "metadata": {
        "id": "T9lRwSMCGt4Y"
      },
      "source": [
        "1. Файл `minutes_n_ingredients.csv` содержит информацию об идентификаторе рецепта, времени его выполнения в минутах и количестве необходимых ингредиентов. Считайте данные из этого файла в виде массива `numpy` типа `int32`, используя `np.loadtxt`. Выведите на экран первые 5 строк массива."
      ]
    },
    {
      "cell_type": "code",
      "source": [
        "#1\n",
        "\n",
        "import numpy as np\n",
        "\n",
        "data = np.loadtxt('minutes_n_ingredients.csv', delimiter=',', dtype=np.int32,skiprows=1)\n",
        "print(data[:5, :])\n"
      ],
      "metadata": {
        "id": "eMihSA11IkQI"
      },
      "execution_count": null,
      "outputs": []
    },
    {
      "cell_type": "markdown",
      "metadata": {
        "id": "nozJ3o_qGt4Z"
      },
      "source": [
        "2. Вычислите среднее значение, минимум, максимум и медиану по каждому из столбцов, кроме первого."
      ]
    },
    {
      "cell_type": "code",
      "source": [
        "#2\n",
        "\n",
        "mean = np.mean(data[:, 1:], axis=0)\n",
        "min_val = np.min(data[:, 1:], axis=0)\n",
        "max_val = np.max(data[:, 1:], axis=0)\n",
        "median = np.median(data[:, 1:], axis=0)\n",
        "print(\"Среднее значение: \", mean)\n",
        "print(\"Минимум: \", min_val)\n",
        "print(\"Максимум: \", max_val)\n",
        "print(\"Медиана: \", median)\n"
      ],
      "metadata": {
        "id": "CNQVsTLcIk1Q"
      },
      "execution_count": null,
      "outputs": []
    },
    {
      "cell_type": "markdown",
      "metadata": {
        "id": "a0r-nrrBGt4Z"
      },
      "source": [
        "3. Ограничьте сверху значения продолжительности выполнения рецепта значением квантиля $q_{0.75}$. "
      ]
    },
    {
      "cell_type": "code",
      "source": [
        "#3\n",
        "\n",
        "q = 0.75\n",
        "time_quantile = np.quantile(data[:, 1], q)\n",
        "data[:, 1] = np.where(data[:, 1] > time_quantile, time_quantile, data[:, 1])\n",
        "print(data)\n"
      ],
      "metadata": {
        "id": "IrUxtdiwIlhu"
      },
      "execution_count": null,
      "outputs": []
    },
    {
      "cell_type": "markdown",
      "metadata": {
        "id": "R52Y_JHYGt4a"
      },
      "source": [
        "4. Посчитайте, для скольких рецептов указана продолжительность, равная нулю. Замените для таких строк значение в данном столбце на 1."
      ]
    },
    {
      "cell_type": "code",
      "source": [
        "#4\n",
        "\n",
        "num_zero_times = np.sum(data[:, 1] == 0)\n",
        "print(\"Количество рецептов со временем выполнения, равным 0: \", num_zero_times)\n",
        "data[:, 1] = np.where(data[:, 1] == 0, 1, data[:, 1])\n"
      ],
      "metadata": {
        "id": "tQajn57OImK2"
      },
      "execution_count": null,
      "outputs": []
    },
    {
      "cell_type": "markdown",
      "metadata": {
        "id": "JujwRIAjGt4a"
      },
      "source": [
        "5. Посчитайте, сколько уникальных рецептов находится в датасете."
      ]
    },
    {
      "cell_type": "code",
      "source": [
        "#5\n",
        "\n",
        "unique_recipes = np.unique(data[:, 0])\n",
        "num_unique_recipes = len(unique_recipes)\n",
        "print(\"Количество уникальных рецептов: \", num_unique_recipes)\n"
      ],
      "metadata": {
        "id": "6g_CHRRQIm40"
      },
      "execution_count": null,
      "outputs": []
    },
    {
      "cell_type": "markdown",
      "metadata": {
        "id": "5_hJxxLCGt4b"
      },
      "source": [
        "6. Сколько и каких различных значений кол-ва ингредиентов присутвует в рецептах из датасета?"
      ]
    },
    {
      "cell_type": "code",
      "source": [
        "#6\n",
        "\n",
        "unique_ingredient_counts = np.unique(data[:, 2])\n",
        "num_unique_ingredient_counts = len(unique_ingredient_counts)\n",
        "print(\"Количество уникальных значений количества ингредиентов: \", num_unique_ingredient_counts)\n",
        "print(\"Уникальные значения количества ингредиентов: \", unique_ingredient_counts)\n"
      ],
      "metadata": {
        "id": "KnyJt2XxIn1U"
      },
      "execution_count": null,
      "outputs": []
    },
    {
      "cell_type": "markdown",
      "metadata": {
        "id": "8jGw-Qq4Gt4b"
      },
      "source": [
        "7. Создайте версию массива, содержащую информацию только о рецептах, состоящих не более чем из 5 ингредиентов."
      ]
    },
    {
      "cell_type": "code",
      "source": [
        "#7\n",
        "\n",
        "less_than_5_ingredients = data[data[:, 2] <= 5]\n",
        "print(less_than_5_ingredients)\n"
      ],
      "metadata": {
        "id": "XTVlwrvrIoap"
      },
      "execution_count": null,
      "outputs": []
    },
    {
      "cell_type": "markdown",
      "metadata": {
        "id": "-tJ2TIFhGt4b"
      },
      "source": [
        "8. Для каждого рецепта посчитайте, сколько в среднем ингредиентов приходится на одну минуту рецепта. Найдите максимальное значение этой величины для всего датасета"
      ]
    },
    {
      "cell_type": "code",
      "source": [
        "#8\n",
        "\n",
        "avg_ingredients_per_minute = data[:, 2] / data[:, 1]\n",
        "print(avg_ingredients_per_minute)\n",
        "\n",
        "max_avg_ingredients_per_minute = np.max(avg_ingredients_per_minute)\n",
        "print(max_avg_ingredients_per_minute)\n"
      ],
      "metadata": {
        "id": "eB4ZTufXIpJ1"
      },
      "execution_count": null,
      "outputs": []
    },
    {
      "cell_type": "markdown",
      "metadata": {
        "id": "2PqU-FfZGt4c"
      },
      "source": [
        "9. Вычислите среднее количество ингредиентов для топ-100 рецептов с наибольшей продолжительностью"
      ]
    },
    {
      "cell_type": "code",
      "source": [
        "#9\n",
        "\n",
        "sorted_data = data[data[:, 1].argsort()[::-1]] # сортируем по убыванию времени выполнения\n",
        "top_100 = sorted_data[:100]\n",
        "avg_ingredients_top_100 = np.mean(top_100[:, 2])\n",
        "print(avg_ingredients_top_100)\n"
      ],
      "metadata": {
        "colab": {
          "base_uri": "https://localhost:8080/"
        },
        "id": "ir45WiTaIp7J",
        "outputId": "d35e1316-a2cb-429a-e665-c4d388936f58"
      },
      "execution_count": 21,
      "outputs": [
        {
          "output_type": "stream",
          "name": "stdout",
          "text": [
            "9.96\n"
          ]
        }
      ]
    },
    {
      "cell_type": "markdown",
      "metadata": {
        "id": "pFs8XxEqGt4c"
      },
      "source": [
        "10. Выберите случайным образом и выведите информацию о 10 различных рецептах"
      ]
    },
    {
      "cell_type": "code",
      "source": [
        "#10\n",
        "import random\n",
        "import numpy as np\n",
        "\n",
        "indices = random.sample(range(data.shape[0]), k=10)\n",
        "random_recipes = data[indices]\n",
        "print(random_recipes)\n",
        "\n"
      ],
      "metadata": {
        "id": "LTRtLd1WIqqG"
      },
      "execution_count": null,
      "outputs": []
    },
    {
      "cell_type": "markdown",
      "metadata": {
        "id": "VV5qVtH4Gt4d"
      },
      "source": [
        "11. Выведите процент рецептов, кол-во ингредиентов в которых меньше среднего."
      ]
    },
    {
      "cell_type": "code",
      "source": [
        "#11\n",
        "\n",
        "less_than_avg = data[data[:, 2] < np.mean(data[:, 2])]\n",
        "percent_less_than_avg = len(less_than_avg) / len(data) * 100\n",
        "print(percent_less_than_avg)\n"
      ],
      "metadata": {
        "id": "cn0rIHAoIrTr"
      },
      "execution_count": null,
      "outputs": []
    },
    {
      "cell_type": "markdown",
      "metadata": {
        "id": "vMJ1DvukGt4d"
      },
      "source": [
        "12. Назовем \"простым\" такой рецепт, длительность выполнения которого не больше 20 минут и кол-во ингредиентов в котором не больше 5. Создайте версию датасета с дополнительным столбцом, значениями которого являются 1, если рецепт простой, и 0 в противном случае."
      ]
    },
    {
      "cell_type": "code",
      "source": [
        "#12\n",
        "\n",
        "simple_recipes = np.logical_and(data[:, 1] <= 20, data[:, 2] <= 5)\n",
        "simple_recipes = simple_recipes.astype(int)\n",
        "data_with_simple_col = np.column_stack((data, simple_recipes))\n",
        "print(data_with_simple_col)\n"
      ],
      "metadata": {
        "id": "DHDzePbnIr-H"
      },
      "execution_count": null,
      "outputs": []
    },
    {
      "cell_type": "markdown",
      "metadata": {
        "id": "4wi3TxIyGt4d"
      },
      "source": [
        "13. Выведите процент \"простых\" рецептов в датасете"
      ]
    },
    {
      "cell_type": "code",
      "source": [
        "#13\n",
        "\n",
        "num_simple_recipes = np.sum(data_with_simple_col[:, 3])\n",
        "total_recipes = data_with_simple_col.shape[0]\n",
        "percent_simple_recipes = (num_simple_recipes / total_recipes) * 100\n",
        "print(\"Процент простых рецептов: \", percent_simple_recipes)\n"
      ],
      "metadata": {
        "id": "hVmRd3XPIs2d"
      },
      "execution_count": null,
      "outputs": []
    },
    {
      "cell_type": "markdown",
      "metadata": {
        "id": "7CnUo76aGt4e"
      },
      "source": [
        "14. Разделим рецепты на группы по следующему правилу. Назовем рецепты короткими, если их продолжительность составляет менее 10 минут; стандартными, если их продолжительность составляет более 10, но менее 20 минут; и длинными, если их продолжительность составляет не менее 20 минут. Создайте трехмерный массив, где нулевая ось отвечает за номер группы (короткий, стандартный или длинный рецепт), первая ось - за сам рецепт и вторая ось - за характеристики рецепта. Выберите максимальное количество рецептов из каждой группы таким образом, чтобы было возможно сформировать трехмерный массив. Выведите форму полученного массива."
      ]
    },
    {
      "cell_type": "code",
      "execution_count": null,
      "metadata": {
        "id": "GnYN4hD8Gt4e"
      },
      "outputs": [],
      "source": [
        "#14\n",
        "\n",
        "short_recipes = data[data[:, 1] < 10]\n",
        "standard_recipes = data[np.logical_and(data[:, 1] >= 10, data[:, 1] <= 20)]\n",
        "long_recipes = data[data[:, 1] > 20]\n",
        "\n",
        "max_num_recipes = min(len(short_recipes), len(standard_recipes), len(long_recipes))\n",
        "short_recipes = short_recipes[:max_num_recipes]\n",
        "standard_recipes = standard_recipes[:max_num_recipes]\n",
        "long_recipes = long_recipes[:max_num_recipes]\n",
        "\n",
        "recipes_array = np.zeros((3, max_num_recipes, 3), dtype='int32')\n",
        "recipes_array[0, :, :] = short_recipes\n",
        "recipes_array[1, :, :] = standard_recipes\n",
        "recipes_array[2, :, :] = long_recipes\n",
        "\n",
        "print(recipes_array.shape)\n"
      ]
    }
  ],
  "metadata": {
    "kernelspec": {
      "display_name": "Python 3",
      "language": "python",
      "name": "python3"
    },
    "language_info": {
      "codemirror_mode": {
        "name": "ipython",
        "version": 3
      },
      "file_extension": ".py",
      "mimetype": "text/x-python",
      "name": "python",
      "nbconvert_exporter": "python",
      "pygments_lexer": "ipython3",
      "version": "3.7.6"
    },
    "colab": {
      "provenance": []
    }
  },
  "nbformat": 4,
  "nbformat_minor": 0
}